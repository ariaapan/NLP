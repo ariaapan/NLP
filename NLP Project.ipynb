{
 "cells": [
  {
   "cell_type": "markdown",
   "metadata": {
    "slideshow": {
     "slide_type": "slide"
    }
   },
   "source": [
    "# Amazon Review Summarization And Classification\n",
    "# Group: Binbin Xia, Bingbing Pan, Boying Liu, Jialin Liang, Yueying Qu"
   ]
  },
  {
   "cell_type": "code",
   "execution_count": 77,
   "metadata": {
    "slideshow": {
     "slide_type": "skip"
    }
   },
   "outputs": [],
   "source": [
    "import numpy as np\n",
    "import pandas as pd \n",
    "import gzip\n",
    "import json\n",
    "import re\n",
    "import string\n",
    "from time import time\n",
    "import spacy\n",
    "import matplotlib.pyplot as plt\n",
    "from nltk.tokenize import sent_tokenize\n",
    "from sklearn.model_selection import train_test_split\n",
    "from keras.preprocessing.text import Tokenizer \n",
    "from keras.preprocessing.sequence import pad_sequences\n",
    "from nltk.corpus import stopwords\n",
    "from tensorflow.keras.layers import Input, LSTM, Embedding, Dense, Concatenate, TimeDistributed\n",
    "from tensorflow.keras.models import Model\n",
    "from tensorflow.keras.callbacks import EarlyStopping\n",
    "import warnings\n",
    "from sklearn.feature_extraction.text import CountVectorizer, TfidfTransformer\n",
    "from sklearn.metrics import confusion_matrix, classification_report, accuracy_score, f1_score\n",
    "import sklearn.metrics as metrics\n",
    "import fasttext\n",
    "from random import randint\n",
    "warnings.filterwarnings(\"ignore\")\n",
    "from sklearn.model_selection import cross_val_score, GridSearchCV\n",
    "from sklearn.naive_bayes import MultinomialNB\n",
    "from sklearn.pipeline import Pipeline\n",
    "from sklearn.svm import SVC\n",
    "from sklearn.model_selection import KFold\n",
    "import xgboost as xgb\n",
    "from sklearn.pipeline import make_pipeline\n",
    "from sklearn.feature_extraction.text import TfidfVectorizer\n",
    "from sklearn import svm\n",
    "from sklearn import naive_bayes\n",
    "import nltk\n",
    "from nltk.translate.bleu_score import sentence_bleu"
   ]
  },
  {
   "cell_type": "markdown",
   "metadata": {
    "slideshow": {
     "slide_type": "slide"
    }
   },
   "source": [
    "## Problem Statement\n",
    "\n",
    "The project intends to improve customer feedback management system. It would be helpful for any organization to understand customer feedbacks quickly, and thus can be utilized for feedback management system. Company can get a complete idea on feedback provided by customers, which makes more loyal customers to the company, expand business, fame, brand value, and profits."
   ]
  },
  {
   "cell_type": "markdown",
   "metadata": {
    "slideshow": {
     "slide_type": "slide"
    }
   },
   "source": [
    "## Dataset Introduction\n",
    "This file has reviewer ID , User ID, Reviewer Name, Reviewer text, helpful, Summary(obtained from Reviewer text),Overall Rating on a scale 5, Review time\n",
    "Description of columns in the file:\n",
    "\n",
    "- verified - if the review has been verified\n",
    "- reviewTime - date of the review being posted\n",
    "- reviewerID - ID of the reviewer, e.g. A2SUAM1J3GNN3B\n",
    "- asin - ID of the product, e.g. 0000013714\n",
    "- reviewerName - name of the reviewer\n",
    "- reviewText - text of the review\n",
    "- summary - summary of the review\n",
    "- unixReviewTime - time of the review (unix time)"
   ]
  },
  {
   "cell_type": "code",
   "execution_count": 101,
   "metadata": {
    "slideshow": {
     "slide_type": "skip"
    }
   },
   "outputs": [],
   "source": [
    "def parse(path):\n",
    "   g = gzip.open(path, 'rb')\n",
    "  for l in g:\n",
    "    yield json.loads(l)\n",
    "\n",
    "def getDF(path):\n",
    "  i = 0\n",
    "  df = {}\n",
    "  for d in parse(path):\n",
    "    df[i] = d\n",
    "    i += 1\n",
    "  return pd.DataFrame.from_dict(df, orient='index')\n",
    "\n",
    "data = getDF('Musical_Instruments_5.json.gz')"
   ]
  },
  {
   "cell_type": "code",
   "execution_count": 102,
   "metadata": {
    "scrolled": true,
    "slideshow": {
     "slide_type": "skip"
    }
   },
   "outputs": [
    {
     "name": "stdout",
     "output_type": "stream",
     "text": [
      "<class 'pandas.core.frame.DataFrame'>\n",
      "Int64Index: 231392 entries, 0 to 231391\n",
      "Data columns (total 12 columns):\n",
      " #   Column          Non-Null Count   Dtype  \n",
      "---  ------          --------------   -----  \n",
      " 0   overall         231392 non-null  float64\n",
      " 1   verified        231392 non-null  bool   \n",
      " 2   reviewTime      231392 non-null  object \n",
      " 3   reviewerID      231392 non-null  object \n",
      " 4   asin            231392 non-null  object \n",
      " 5   reviewerName    231367 non-null  object \n",
      " 6   reviewText      231344 non-null  object \n",
      " 7   summary         231341 non-null  object \n",
      " 8   unixReviewTime  231392 non-null  int64  \n",
      " 9   vote            34777 non-null   object \n",
      " 10  style           121310 non-null  object \n",
      " 11  image           3889 non-null    object \n",
      "dtypes: bool(1), float64(1), int64(1), object(9)\n",
      "memory usage: 21.4+ MB\n"
     ]
    }
   ],
   "source": [
    "data.info()"
   ]
  },
  {
   "cell_type": "code",
   "execution_count": 103,
   "metadata": {
    "scrolled": false,
    "slideshow": {
     "slide_type": "subslide"
    }
   },
   "outputs": [
    {
     "data": {
      "text/html": [
       "<div>\n",
       "<style scoped>\n",
       "    .dataframe tbody tr th:only-of-type {\n",
       "        vertical-align: middle;\n",
       "    }\n",
       "\n",
       "    .dataframe tbody tr th {\n",
       "        vertical-align: top;\n",
       "    }\n",
       "\n",
       "    .dataframe thead th {\n",
       "        text-align: right;\n",
       "    }\n",
       "</style>\n",
       "<table border=\"1\" class=\"dataframe\">\n",
       "  <thead>\n",
       "    <tr style=\"text-align: right;\">\n",
       "      <th></th>\n",
       "      <th>overall</th>\n",
       "      <th>verified</th>\n",
       "      <th>reviewTime</th>\n",
       "      <th>reviewerID</th>\n",
       "      <th>asin</th>\n",
       "      <th>reviewerName</th>\n",
       "      <th>reviewText</th>\n",
       "      <th>summary</th>\n",
       "      <th>unixReviewTime</th>\n",
       "      <th>vote</th>\n",
       "      <th>style</th>\n",
       "      <th>image</th>\n",
       "    </tr>\n",
       "  </thead>\n",
       "  <tbody>\n",
       "    <tr>\n",
       "      <th>0</th>\n",
       "      <td>5.0</td>\n",
       "      <td>True</td>\n",
       "      <td>10 30, 2016</td>\n",
       "      <td>A3FO5AKVTFRCRJ</td>\n",
       "      <td>0739079891</td>\n",
       "      <td>francisco</td>\n",
       "      <td>It's good for beginners</td>\n",
       "      <td>Five Stars</td>\n",
       "      <td>1477785600</td>\n",
       "      <td>NaN</td>\n",
       "      <td>NaN</td>\n",
       "      <td>NaN</td>\n",
       "    </tr>\n",
       "    <tr>\n",
       "      <th>1</th>\n",
       "      <td>5.0</td>\n",
       "      <td>True</td>\n",
       "      <td>06 30, 2016</td>\n",
       "      <td>A3UCGC1DHFMBCE</td>\n",
       "      <td>0739079891</td>\n",
       "      <td>Eb Jack Murray</td>\n",
       "      <td>I recommend this starter Ukulele kit.  I has e...</td>\n",
       "      <td>Five Stars</td>\n",
       "      <td>1467244800</td>\n",
       "      <td>NaN</td>\n",
       "      <td>NaN</td>\n",
       "      <td>NaN</td>\n",
       "    </tr>\n",
       "    <tr>\n",
       "      <th>2</th>\n",
       "      <td>5.0</td>\n",
       "      <td>True</td>\n",
       "      <td>05 9, 2016</td>\n",
       "      <td>A2S9SLRYLPGYZB</td>\n",
       "      <td>0739079891</td>\n",
       "      <td>Clara LaMarr</td>\n",
       "      <td>G'daughter received this for Christmas present...</td>\n",
       "      <td>Learning new songs to play regularly</td>\n",
       "      <td>1462752000</td>\n",
       "      <td>NaN</td>\n",
       "      <td>NaN</td>\n",
       "      <td>NaN</td>\n",
       "    </tr>\n",
       "    <tr>\n",
       "      <th>3</th>\n",
       "      <td>4.0</td>\n",
       "      <td>True</td>\n",
       "      <td>04 10, 2016</td>\n",
       "      <td>A15RTJWPG8OKOE</td>\n",
       "      <td>0739079891</td>\n",
       "      <td>Eagle80</td>\n",
       "      <td>According to my order history, I bought this t...</td>\n",
       "      <td>A bargain-bin good-enough ukulele that's held ...</td>\n",
       "      <td>1460246400</td>\n",
       "      <td>NaN</td>\n",
       "      <td>NaN</td>\n",
       "      <td>NaN</td>\n",
       "    </tr>\n",
       "    <tr>\n",
       "      <th>4</th>\n",
       "      <td>1.0</td>\n",
       "      <td>True</td>\n",
       "      <td>02 6, 2016</td>\n",
       "      <td>A12ET1WO3OAVU7</td>\n",
       "      <td>0739079891</td>\n",
       "      <td>Amazon Customer</td>\n",
       "      <td>Please pay attention better than I did to the ...</td>\n",
       "      <td>Poor Quality product.</td>\n",
       "      <td>1454716800</td>\n",
       "      <td>NaN</td>\n",
       "      <td>NaN</td>\n",
       "      <td>NaN</td>\n",
       "    </tr>\n",
       "  </tbody>\n",
       "</table>\n",
       "</div>"
      ],
      "text/plain": [
       "   overall  verified   reviewTime      reviewerID        asin  \\\n",
       "0      5.0      True  10 30, 2016  A3FO5AKVTFRCRJ  0739079891   \n",
       "1      5.0      True  06 30, 2016  A3UCGC1DHFMBCE  0739079891   \n",
       "2      5.0      True   05 9, 2016  A2S9SLRYLPGYZB  0739079891   \n",
       "3      4.0      True  04 10, 2016  A15RTJWPG8OKOE  0739079891   \n",
       "4      1.0      True   02 6, 2016  A12ET1WO3OAVU7  0739079891   \n",
       "\n",
       "      reviewerName                                         reviewText  \\\n",
       "0        francisco                            It's good for beginners   \n",
       "1   Eb Jack Murray  I recommend this starter Ukulele kit.  I has e...   \n",
       "2     Clara LaMarr  G'daughter received this for Christmas present...   \n",
       "3          Eagle80  According to my order history, I bought this t...   \n",
       "4  Amazon Customer  Please pay attention better than I did to the ...   \n",
       "\n",
       "                                             summary  unixReviewTime vote  \\\n",
       "0                                         Five Stars      1477785600  NaN   \n",
       "1                                         Five Stars      1467244800  NaN   \n",
       "2               Learning new songs to play regularly      1462752000  NaN   \n",
       "3  A bargain-bin good-enough ukulele that's held ...      1460246400  NaN   \n",
       "4                              Poor Quality product.      1454716800  NaN   \n",
       "\n",
       "  style image  \n",
       "0   NaN   NaN  \n",
       "1   NaN   NaN  \n",
       "2   NaN   NaN  \n",
       "3   NaN   NaN  \n",
       "4   NaN   NaN  "
      ]
     },
     "execution_count": 103,
     "metadata": {},
     "output_type": "execute_result"
    }
   ],
   "source": [
    "data.head()"
   ]
  },
  {
   "cell_type": "markdown",
   "metadata": {
    "slideshow": {
     "slide_type": "skip"
    }
   },
   "source": [
    "## Drop duplicated and/or empty record"
   ]
  },
  {
   "cell_type": "markdown",
   "metadata": {
    "slideshow": {
     "slide_type": "skip"
    }
   },
   "source": [
    "- Remove record without review and/or summary\n",
    "- Assign unique index to each record"
   ]
  },
  {
   "cell_type": "code",
   "execution_count": 105,
   "metadata": {
    "slideshow": {
     "slide_type": "skip"
    }
   },
   "outputs": [],
   "source": [
    "data = data[(pd.isna(data['reviewText']) == 0) & (pd.isna(data['summary']) == 0)]\n",
    "data = data.drop_duplicates(subset=['reviewText']).reset_index(drop=True)"
   ]
  },
  {
   "cell_type": "markdown",
   "metadata": {
    "slideshow": {
     "slide_type": "skip"
    }
   },
   "source": [
    "Use the first 100k rows to speed up the training"
   ]
  },
  {
   "cell_type": "code",
   "execution_count": 106,
   "metadata": {
    "slideshow": {
     "slide_type": "skip"
    }
   },
   "outputs": [],
   "source": [
    "data = data[['overall', 'reviewText', 'summary']][:100000]"
   ]
  },
  {
   "cell_type": "code",
   "execution_count": 107,
   "metadata": {
    "slideshow": {
     "slide_type": "skip"
    }
   },
   "outputs": [],
   "source": [
    "data['reviewIndex'] = np.array(range(len(data)))"
   ]
  },
  {
   "cell_type": "code",
   "execution_count": 108,
   "metadata": {
    "slideshow": {
     "slide_type": "skip"
    }
   },
   "outputs": [
    {
     "data": {
      "text/html": [
       "<div>\n",
       "<style scoped>\n",
       "    .dataframe tbody tr th:only-of-type {\n",
       "        vertical-align: middle;\n",
       "    }\n",
       "\n",
       "    .dataframe tbody tr th {\n",
       "        vertical-align: top;\n",
       "    }\n",
       "\n",
       "    .dataframe thead th {\n",
       "        text-align: right;\n",
       "    }\n",
       "</style>\n",
       "<table border=\"1\" class=\"dataframe\">\n",
       "  <thead>\n",
       "    <tr style=\"text-align: right;\">\n",
       "      <th></th>\n",
       "      <th>overall</th>\n",
       "      <th>reviewText</th>\n",
       "      <th>summary</th>\n",
       "      <th>reviewIndex</th>\n",
       "    </tr>\n",
       "  </thead>\n",
       "  <tbody>\n",
       "    <tr>\n",
       "      <th>0</th>\n",
       "      <td>5.0</td>\n",
       "      <td>It's good for beginners</td>\n",
       "      <td>Five Stars</td>\n",
       "      <td>0</td>\n",
       "    </tr>\n",
       "    <tr>\n",
       "      <th>1</th>\n",
       "      <td>5.0</td>\n",
       "      <td>I recommend this starter Ukulele kit.  I has e...</td>\n",
       "      <td>Five Stars</td>\n",
       "      <td>1</td>\n",
       "    </tr>\n",
       "    <tr>\n",
       "      <th>2</th>\n",
       "      <td>5.0</td>\n",
       "      <td>G'daughter received this for Christmas present...</td>\n",
       "      <td>Learning new songs to play regularly</td>\n",
       "      <td>2</td>\n",
       "    </tr>\n",
       "    <tr>\n",
       "      <th>3</th>\n",
       "      <td>4.0</td>\n",
       "      <td>According to my order history, I bought this t...</td>\n",
       "      <td>A bargain-bin good-enough ukulele that's held ...</td>\n",
       "      <td>3</td>\n",
       "    </tr>\n",
       "    <tr>\n",
       "      <th>4</th>\n",
       "      <td>1.0</td>\n",
       "      <td>Please pay attention better than I did to the ...</td>\n",
       "      <td>Poor Quality product.</td>\n",
       "      <td>4</td>\n",
       "    </tr>\n",
       "  </tbody>\n",
       "</table>\n",
       "</div>"
      ],
      "text/plain": [
       "   overall                                         reviewText  \\\n",
       "0      5.0                            It's good for beginners   \n",
       "1      5.0  I recommend this starter Ukulele kit.  I has e...   \n",
       "2      5.0  G'daughter received this for Christmas present...   \n",
       "3      4.0  According to my order history, I bought this t...   \n",
       "4      1.0  Please pay attention better than I did to the ...   \n",
       "\n",
       "                                             summary  reviewIndex  \n",
       "0                                         Five Stars            0  \n",
       "1                                         Five Stars            1  \n",
       "2               Learning new songs to play regularly            2  \n",
       "3  A bargain-bin good-enough ukulele that's held ...            3  \n",
       "4                              Poor Quality product.            4  "
      ]
     },
     "execution_count": 108,
     "metadata": {},
     "output_type": "execute_result"
    }
   ],
   "source": [
    "data.head()"
   ]
  },
  {
   "attachments": {
    "ExtractiveSummarization.jpg": {
     "image/jpeg": "[encoded data removed]"
    }
   },
   "cell_type": "markdown",
   "metadata": {
    "slideshow": {
     "slide_type": "slide"
    }
   },
   "source": [
    "## Extractive Text Summarizer\n",
    "\n",
    "Extractive summarization means identifying important sections of the text and generating them verbatim producing a subset of the sentences from the original text.\n",
    "\n",
    "![ExtractiveSummarization.jpg](attachment:ExtractiveSummarization.jpg)"
   ]
  },
  {
   "cell_type": "markdown",
   "metadata": {
    "slideshow": {
     "slide_type": "skip"
    }
   },
   "source": [
    "We first calcuated Jaccard similarity of each sentence in a single review and then pick up the one with the highest score as the one-line summary of the given review. "
   ]
  },
  {
   "cell_type": "code",
   "execution_count": 9,
   "metadata": {
    "slideshow": {
     "slide_type": "subslide"
    }
   },
   "outputs": [],
   "source": [
    "def text_summarizer(review, n_summary):\n",
    "    sentences = sent_tokenize(review)\n",
    "    n = len(sentences)\n",
    "    x = [re.split('[ ,.]',j) for j in sentences]\n",
    "    jaccsim = np.array(np.zeros(n*n)).reshape((n,n))\n",
    "    for i in range(n):\n",
    "        for j in range(i,n):\n",
    "            jaccsim[i,j] = len(set(x[i]).intersection(set(x[j])))/len(set(x[i]).union(set(x[j])))\n",
    "            jaccsim[j,i] = jaccsim[i,j]\n",
    "    #Summary\n",
    "    idx = np.argsort(np.sum(jaccsim, axis=0))[::-1][:n_summary]  #reverse sort\n",
    "    summary = [sentences[j] for j in list(idx)]\n",
    "    return summary"
   ]
  },
  {
   "cell_type": "code",
   "execution_count": 10,
   "metadata": {
    "slideshow": {
     "slide_type": "skip"
    }
   },
   "outputs": [
    {
     "name": "stderr",
     "output_type": "stream",
     "text": [
      "[nltk_data] Downloading package punkt to /home/xyyin/nltk_data...\n",
      "[nltk_data]   Package punkt is already up-to-date!\n"
     ]
    },
    {
     "data": {
      "text/plain": [
       "True"
      ]
     },
     "execution_count": 10,
     "metadata": {},
     "output_type": "execute_result"
    }
   ],
   "source": [
    "nltk.download('punkt')"
   ]
  },
  {
   "cell_type": "code",
   "execution_count": 11,
   "metadata": {
    "slideshow": {
     "slide_type": "skip"
    }
   },
   "outputs": [],
   "source": [
    "extractive_summary = []\n",
    "for review in data['reviewText']:\n",
    "    extractive_summary.append(text_summarizer(review, 1))"
   ]
  },
  {
   "cell_type": "code",
   "execution_count": 111,
   "metadata": {
    "scrolled": false,
    "slideshow": {
     "slide_type": "skip"
    }
   },
   "outputs": [],
   "source": [
    "data['extractive_summary'] = pd.Series(extractive_summary)"
   ]
  },
  {
   "cell_type": "markdown",
   "metadata": {
    "slideshow": {
     "slide_type": "skip"
    }
   },
   "source": [
    "Check the result of first 5 summaries"
   ]
  },
  {
   "cell_type": "code",
   "execution_count": 13,
   "metadata": {
    "scrolled": true,
    "slideshow": {
     "slide_type": "subslide"
    }
   },
   "outputs": [
    {
     "name": "stdout",
     "output_type": "stream",
     "text": [
      "Review: It's good for beginners\n",
      "Summary: [\"It's good for beginners\"]\n",
      "\n",
      "\n",
      "Review: I recommend this starter Ukulele kit.  I has everything you\n",
      "need to learn the Ukulele.\n",
      "Summary: ['I has everything you\\nneed to learn the Ukulele.']\n",
      "\n",
      "\n",
      "Review: G'daughter received this for Christmas present last year and plays if often.\n",
      "Summary: [\"G'daughter received this for Christmas present last year and plays if often.\"]\n",
      "\n",
      "\n",
      "Review: According to my order history, I bought this this kit towards the end of 2012 as a Black Friday Week Lightning Deal. I'm writing this nearly four years later.\n",
      "\n",
      "As with any stringed instrument, the strings really needed to stretch out before they would stay in tune. So, for the first several days, it was play a few minutes, tune, play a few minutes, tune. Then it was tuning daily. After a few weeks of this, the uke held a tune great. A tuner is not included in the package, which is the bulk of the minus star because a real beginner wouldn't have a way to tune the thing. (You need either a tuner or a reference note, say, on a piano or keyboard.) You can download a decent tuner app, though, for a buck or so. Do it, because you're going to need it a lot for the first couple of weeks.\n",
      "\n",
      "The \"Firebrand\" ukulele is a laminated instrument of unknown wood. It's kind of dead-sounding. But then, soprano ukes generally sound a bit flattish to me - it's part of their distinctive character. The finish, while smooth, is spotty, and the decal around the sound hole has bubbles. But the fretboard is just barely adequately finished, with frets that are nicely flush with the edge of the neck so the feel is smooth - and has stayed smooth despite temperature changes. The beveled fret edges are filed, but not especially polished; even so, there's nothing to snag or catch. Fret dots are inset (one quite deeply) into the fingerboard and also painted on the upper edge of the neck, a nice touch. The action on mine is okay, at least down near the headstock where the starter chords live. The tuners are a triumph of cost-engineering: stamped metal with solid gears, so they're a definite step up from simple peg tuners. They make fine adjustments quite smoothly, and hold well over time. The bridge is slotted, so when you re-string you don't have to mess with that weird knot, just knot the end.\n",
      "\n",
      "I visited a specialty ukulele shop yesterday thinking of upgrading, and played with budget beginner soprano ukes costing three times what I paid for this whole set, and to me they played about the same and most even sounded the same; a few were a bit louder. They were all, however, finished to a much higher standard. I left empty-handed, but will probably get a better uke sometime soon. They're fun!\n",
      "\n",
      "The bag is lightly made, unpadded, and has a fixed-length strap for carrying. It offered no advantage over just grabbing the uke to carry it, while adding the considerable disadvantage of needing to unpack it to play. It promptly went into the giveaway pile.\n",
      "\n",
      "We haven't watched the DVDs, because the book has been great. It starts with C7 and F, and then adds C and G7, then G and D7. So it's not the C Am F G combo very common on YouTube. The songs are American folk traditionals, so if you've been around a campfire where any singing was involved, you've probably heard them before. There are lots of good instructions available online, including videos, so, really, the book is just a kick-starter to get you going. It's a pretty good book, with a reference section at the back with more chord diagrams than you're likely to need.\n",
      "\n",
      "In all, it's an acceptable inexpensive starter set, not worth the \"list price\" but an OK value at Amazon's discounted price and a bargain at the Gold Box/Lightning Deal price.\n",
      "\n",
      "UPDATE: I changed the strings to the Aquila Nylgut AQ-4 set. Yeah, they're $10 strings on a $15 instrument, but the improvement in sound is just huge. I also polished the frets and fingerboard with a \"magic eraser\"-like product (an ultra-fine abrasive), shined up the body, and filed down the plastic saddle (which simply pops out of the bridge) to lower the action. It plays and sounds much better now, although the intonation remains sharp on several notes if you go note-for-note up the frets.\n",
      "\n",
      "UPDATE #2: OK, after going through the book I binge-watched the DVD. It consists of two segments of about 33 minutes each, each segment subdivided into easy-to-locate chapters that follow the pages of the book. It's really very good! The \"instructor\" (and remember, I bought this four years ago so this may have changed) was musician Julia Jordan. Production values were good, and the multi-angle views of playing were helpful, as were all the play-along segments. Minor quibbles: Jordan played a larger ukulele than the one in the pack, so you can't hold it in the exact same way. And it seemed like the songs were keyed to a higher register than her natural speaking/singing voice (you can hear her singing her own songs on a special feature and she's very pleasant to listen to).\n",
      "\n",
      "UPDATE #3: I now own a couple better ukuleles, have been a member of a ukulele meetup, and play a little almost every day. I can tell the difference between any of my better ukes and this one by both feel and ear. Still, it's a totally useable instrument, and it got me started on an enjoyable little musical hobby. Just remember to download a tuner app and maybe a metronome app and you're good to go.\n",
      "Summary: [\"Do it, because you're going to need it a lot for the first couple of weeks.\"]\n",
      "\n",
      "\n",
      "Review: Please pay attention better than I did to the reviews! This a very poor quality product. Will not stay in tune! If by chance you do order buy some better strings. The lesson booK is ok but that's about it. Do you self a favor and spend a little more. You will be glad you did!\n",
      "Summary: ['Do you self a favor and spend a little more.']\n",
      "\n",
      "\n"
     ]
    }
   ],
   "source": [
    "for i in range(5):\n",
    "    print(\"Review:\",data['reviewText'][i])\n",
    "    print(\"Summary:\",data['extractive_summary'][i])\n",
    "    print(\"\\n\")"
   ]
  },
  {
   "attachments": {
    "abstractive1.jpg": {
     "image/jpeg": "[encoded data removed]"
    }
   },
   "cell_type": "markdown",
   "metadata": {
    "slideshow": {
     "slide_type": "slide"
    }
   },
   "source": [
    "## Abstractive Text Summarizer through a Seq2Seq LSTM Modeling\n",
    "\n",
    "Abstractive summarization reproduces important material in a new way after interpretation and examination of the text using advanced natural language techniques to generate a new shorter text that conveys the most critical information from the original one.\n",
    "\n",
    "![abstractive1.jpg](attachment:abstractive1.jpg)"
   ]
  },
  {
   "cell_type": "markdown",
   "metadata": {
    "slideshow": {
     "slide_type": "subslide"
    }
   },
   "source": [
    "### Preprocessing Data\n",
    "\n",
    "Task 1: Convert all characters to lowercases <br>\n",
    "Task 2: Remove escape characters <br>\n",
    "Task 3: Remove special characters which occurs more than one time consecutively <br>\n",
    "Task 4: Remove punctuations <br> \n",
    "Task 5: Remove special characters at the end of words <br> \n",
    "Task 6: Truncate urls to keep them clean <br> \n",
    "Task 7: Remove mailto:<br>\n",
    "Task 8: Remove \\x9* <br>\n",
    "Task 9: Clean up unimportant numbers<br>\n",
    "Task 10: Remove multiple spaces<br>\n",
    "Task 11: Remove any single characters hanging between 2 spaces <br>"
   ]
  },
  {
   "cell_type": "markdown",
   "metadata": {
    "slideshow": {
     "slide_type": "skip"
    }
   },
   "source": [
    "Define a function to clean text"
   ]
  },
  {
   "cell_type": "code",
   "execution_count": 14,
   "metadata": {
    "slideshow": {
     "slide_type": "subslide"
    }
   },
   "outputs": [],
   "source": [
    "def text_cleaner(text_column):\n",
    "    for text in text_column:\n",
    "        new_text = text.lower() # Convert to lowercase\n",
    "        new_text = re.sub(r\"(\\\\t)\", ' ', str(new_text)) #Remove tab charecters\n",
    "        new_text = re.sub(r\"(\\\\r)\", ' ', str(new_text)) #Remove carriage return charecters\n",
    "        new_text = re.sub(r\"(\\\\n)\", ' ', str(new_text)) #Remove newline charecters\n",
    "\n",
    "        new_text = re.sub(r\"(__+)\", ' ', str(new_text))   #Remove _ if it occurs more than one time consecutively\n",
    "        new_text = re.sub(r\"(--+)\", ' ', str(new_text))   #Remove - if it occurs more than one time consecutively\n",
    "        new_text = re.sub(r\"(~~+)\", ' ', str(new_text))   #Remove ~ if it occurs more than one time consecutively\n",
    "        new_text = re.sub(r\"(\\+\\++)\", ' ', str(new_text)) #Remove + if it occurs more than one time consecutively\n",
    "        new_text = re.sub(r\"(\\.\\.+)\", ' ', str(new_text)) #Remove . if it occurs more than one time consecutively\n",
    "\n",
    "        new_text = re.sub(r\"[<>()|&©ø\\[\\]\\'\\\",;?~*!]\", ' ', str(new_text)) #Remove punctuations \n",
    "\n",
    "        new_text = re.sub(\"(\\.\\s+)\", ' ', str(new_text)) #Remove . at end of words\n",
    "        new_text = re.sub(\"(\\-\\s+)\", ' ', str(new_text)) #Remove - at end of words\n",
    "        new_text = re.sub(\"(\\:\\s+)\", ' ', str(new_text)) #Remove : at end of words\n",
    "\n",
    "        new_text = re.sub(\"(\\s+.\\s+)\", ' ', str(new_text)) #Remove any single characters hanging between 2 spaces\n",
    "        \n",
    "        new_text = re.sub(\"(mailto:)\", ' ', str(new_text)) #Remove mailto:\n",
    "        new_text = re.sub(r\"(\\\\x9\\d)\", ' ', str(new_text)) #Remove \\x9* in text\n",
    "        new_text = re.sub(\"([iI][nN][cC]\\d+)\", 'INC_NUM', str(new_text)) #Replace INC nums to INC_NUM\n",
    "        new_text = re.sub(\"([cC][mM]\\d+)|([cC][hH][gG]\\d+)\", 'CM_NUM', str(new_text)) #Replace CM# and CHG# to CM_NUM\n",
    "\n",
    "        # Truncate urls\n",
    "        try:\n",
    "            url = re.search(r'((https*:\\/*)([^\\/\\s]+))(.[^\\s]+)', str(new_text))\n",
    "            repl_url = url.group(3)\n",
    "            new_text = re.sub(r'((https*:\\/*)([^\\/\\s]+))(.[^\\s]+)',repl_url, str(new_text))\n",
    "        except:\n",
    "            pass # Might be no url\n",
    "\n",
    "        new_text = re.sub(\"(\\s+)\",' ',str(new_text)) #Remove multiple spaces\n",
    "\n",
    "        new_text = re.sub(\"(\\s+.\\s+)\", ' ', str(new_text)) #Remove any single characters hanging between 2 spaces\n",
    "\n",
    "        yield new_text"
   ]
  },
  {
   "cell_type": "markdown",
   "metadata": {
    "slideshow": {
     "slide_type": "skip"
    }
   },
   "source": [
    "Clean review text and summary and add these two columns to the original data frame"
   ]
  },
  {
   "cell_type": "code",
   "execution_count": 15,
   "metadata": {
    "slideshow": {
     "slide_type": "skip"
    }
   },
   "outputs": [],
   "source": [
    "cleaning_review = text_cleaner(data['reviewText'])\n",
    "cleaning_summary = text_cleaner(data['summary'])"
   ]
  },
  {
   "cell_type": "markdown",
   "metadata": {
    "slideshow": {
     "slide_type": "skip"
    }
   },
   "source": [
    "Use spaCy .pipe() method to speed-up the cleaning process"
   ]
  },
  {
   "cell_type": "code",
   "execution_count": 16,
   "metadata": {
    "slideshow": {
     "slide_type": "skip"
    }
   },
   "outputs": [
    {
     "name": "stdout",
     "output_type": "stream",
     "text": [
      "Time to clean up everything: 2.68 mins\n"
     ]
    }
   ],
   "source": [
    "nlp = spacy.load('en', disable=['ner', 'parser']) # disabling Named Entity Recognition for speed\n",
    "\n",
    "t = time()\n",
    "\n",
    "#Batch the data points into 5000 and run on all cores for faster preprocessing\n",
    "review = [str(doc) for doc in nlp.pipe(cleaning_review, batch_size=5000, n_threads=-1)]\n",
    "\n",
    "#Takes 3 mins\n",
    "print('Time to clean up everything: {} mins'.format(round((time() - t) / 60, 2)))"
   ]
  },
  {
   "cell_type": "code",
   "execution_count": 17,
   "metadata": {
    "slideshow": {
     "slide_type": "subslide"
    }
   },
   "outputs": [
    {
     "name": "stdout",
     "output_type": "stream",
     "text": [
      "Time to clean up everything: 0.34 mins\n"
     ]
    }
   ],
   "source": [
    "t = time()\n",
    "\n",
    "#Batch the data points into 5000 and run on all cores for faster preprocessing\n",
    "summary = ['_START_ '+ str(doc) + ' _END_' for doc in nlp.pipe(cleaning_summary, batch_size=5000, n_threads=-1)]\n",
    "\n",
    "#Takes 1 mins\n",
    "print('Time to clean up everything: {} mins'.format(round((time() - t) / 60, 2)))"
   ]
  },
  {
   "cell_type": "code",
   "execution_count": 112,
   "metadata": {
    "slideshow": {
     "slide_type": "skip"
    }
   },
   "outputs": [],
   "source": [
    "data['clean_review'] = review\n",
    "data['clean_summary'] = summary"
   ]
  },
  {
   "cell_type": "code",
   "execution_count": 113,
   "metadata": {
    "slideshow": {
     "slide_type": "subslide"
    }
   },
   "outputs": [
    {
     "data": {
      "text/html": [
       "<div>\n",
       "<style scoped>\n",
       "    .dataframe tbody tr th:only-of-type {\n",
       "        vertical-align: middle;\n",
       "    }\n",
       "\n",
       "    .dataframe tbody tr th {\n",
       "        vertical-align: top;\n",
       "    }\n",
       "\n",
       "    .dataframe thead th {\n",
       "        text-align: right;\n",
       "    }\n",
       "</style>\n",
       "<table border=\"1\" class=\"dataframe\">\n",
       "  <thead>\n",
       "    <tr style=\"text-align: right;\">\n",
       "      <th></th>\n",
       "      <th>overall</th>\n",
       "      <th>reviewText</th>\n",
       "      <th>summary</th>\n",
       "      <th>reviewIndex</th>\n",
       "      <th>extractive_summary</th>\n",
       "      <th>clean_review</th>\n",
       "      <th>clean_summary</th>\n",
       "    </tr>\n",
       "  </thead>\n",
       "  <tbody>\n",
       "    <tr>\n",
       "      <th>0</th>\n",
       "      <td>5.0</td>\n",
       "      <td>It's good for beginners</td>\n",
       "      <td>Five Stars</td>\n",
       "      <td>0</td>\n",
       "      <td>[It's good for beginners]</td>\n",
       "      <td>it good for beginners</td>\n",
       "      <td>_START_ five stars _END_</td>\n",
       "    </tr>\n",
       "    <tr>\n",
       "      <th>1</th>\n",
       "      <td>5.0</td>\n",
       "      <td>I recommend this starter Ukulele kit.  I has e...</td>\n",
       "      <td>Five Stars</td>\n",
       "      <td>1</td>\n",
       "      <td>[I has everything you\\nneed to learn the Ukule...</td>\n",
       "      <td>i recommend this starter ukulele kit has every...</td>\n",
       "      <td>_START_ five stars _END_</td>\n",
       "    </tr>\n",
       "    <tr>\n",
       "      <th>2</th>\n",
       "      <td>5.0</td>\n",
       "      <td>G'daughter received this for Christmas present...</td>\n",
       "      <td>Learning new songs to play regularly</td>\n",
       "      <td>2</td>\n",
       "      <td>[G'daughter received this for Christmas presen...</td>\n",
       "      <td>g daughter received this for christmas present...</td>\n",
       "      <td>_START_ learning new songs to play regularly _...</td>\n",
       "    </tr>\n",
       "    <tr>\n",
       "      <th>3</th>\n",
       "      <td>4.0</td>\n",
       "      <td>According to my order history, I bought this t...</td>\n",
       "      <td>A bargain-bin good-enough ukulele that's held ...</td>\n",
       "      <td>3</td>\n",
       "      <td>[Do it, because you're going to need it a lot ...</td>\n",
       "      <td>according to my order history bought this this...</td>\n",
       "      <td>_START_ a bargain-bin good-enough ukulele that...</td>\n",
       "    </tr>\n",
       "    <tr>\n",
       "      <th>4</th>\n",
       "      <td>1.0</td>\n",
       "      <td>Please pay attention better than I did to the ...</td>\n",
       "      <td>Poor Quality product.</td>\n",
       "      <td>4</td>\n",
       "      <td>[Do you self a favor and spend a little more.]</td>\n",
       "      <td>please pay attention better than did to the re...</td>\n",
       "      <td>_START_ poor quality product. _END_</td>\n",
       "    </tr>\n",
       "  </tbody>\n",
       "</table>\n",
       "</div>"
      ],
      "text/plain": [
       "   overall                                         reviewText  \\\n",
       "0      5.0                            It's good for beginners   \n",
       "1      5.0  I recommend this starter Ukulele kit.  I has e...   \n",
       "2      5.0  G'daughter received this for Christmas present...   \n",
       "3      4.0  According to my order history, I bought this t...   \n",
       "4      1.0  Please pay attention better than I did to the ...   \n",
       "\n",
       "                                             summary  reviewIndex  \\\n",
       "0                                         Five Stars            0   \n",
       "1                                         Five Stars            1   \n",
       "2               Learning new songs to play regularly            2   \n",
       "3  A bargain-bin good-enough ukulele that's held ...            3   \n",
       "4                              Poor Quality product.            4   \n",
       "\n",
       "                                  extractive_summary  \\\n",
       "0                          [It's good for beginners]   \n",
       "1  [I has everything you\\nneed to learn the Ukule...   \n",
       "2  [G'daughter received this for Christmas presen...   \n",
       "3  [Do it, because you're going to need it a lot ...   \n",
       "4     [Do you self a favor and spend a little more.]   \n",
       "\n",
       "                                        clean_review  \\\n",
       "0                              it good for beginners   \n",
       "1  i recommend this starter ukulele kit has every...   \n",
       "2  g daughter received this for christmas present...   \n",
       "3  according to my order history bought this this...   \n",
       "4  please pay attention better than did to the re...   \n",
       "\n",
       "                                       clean_summary  \n",
       "0                           _START_ five stars _END_  \n",
       "1                           _START_ five stars _END_  \n",
       "2  _START_ learning new songs to play regularly _...  \n",
       "3  _START_ a bargain-bin good-enough ukulele that...  \n",
       "4                _START_ poor quality product. _END_  "
      ]
     },
     "execution_count": 113,
     "metadata": {},
     "output_type": "execute_result"
    }
   ],
   "source": [
    "data.head()"
   ]
  },
  {
   "cell_type": "markdown",
   "metadata": {
    "slideshow": {
     "slide_type": "subslide"
    }
   },
   "source": [
    "### Understanding the Distribution\n",
    "\n",
    "We will analyze the length of the reviews and the summary to get an overall idea about the distribution of length of the text. This will help us fix the maximum length of the sequence:"
   ]
  },
  {
   "cell_type": "code",
   "execution_count": 19,
   "metadata": {
    "slideshow": {
     "slide_type": "subslide"
    }
   },
   "outputs": [
    {
     "data": {
      "image/png": "[encoded data removed]",
      "text/plain": [
       "<Figure size 432x288 with 2 Axes>"
      ]
     },
     "metadata": {
      "needs_background": "light"
     },
     "output_type": "display_data"
    }
   ],
   "source": [
    "review_word_count = []\n",
    "summary_word_count = []\n",
    "\n",
    "for i in data['clean_review']:\n",
    "      review_word_count.append(len(i.split()))\n",
    "\n",
    "for i in data['clean_summary']:\n",
    "      summary_word_count.append(len(i.split()))\n",
    "\n",
    "length_df = pd.DataFrame({'review':review_word_count, 'summary':summary_word_count})\n",
    "\n",
    "length_df.hist(bins = 30)\n",
    "plt.show()"
   ]
  },
  {
   "cell_type": "markdown",
   "metadata": {
    "slideshow": {
     "slide_type": "skip"
    }
   },
   "source": [
    "It seems like the majority of the summaries are less than or equal to 15 words and the majority of the review text are less than 100 words. Let's see what percentage of the data fall in the above-mentioned ranges."
   ]
  },
  {
   "cell_type": "code",
   "execution_count": 20,
   "metadata": {
    "slideshow": {
     "slide_type": "subslide"
    }
   },
   "outputs": [
    {
     "name": "stdout",
     "output_type": "stream",
     "text": [
      "0.97995\n"
     ]
    }
   ],
   "source": [
    "cnt = 0\n",
    "for i in data['clean_summary']:\n",
    "    if(len(i.split()) <= 15):\n",
    "        cnt = cnt + 1\n",
    "print(cnt / len(data['clean_summary']))"
   ]
  },
  {
   "cell_type": "markdown",
   "metadata": {
    "slideshow": {
     "slide_type": "skip"
    }
   },
   "source": [
    "As what we can tell from the result, 98% of the summaries have length below 15. That's why we will fix maximum length of summary to 15."
   ]
  },
  {
   "cell_type": "code",
   "execution_count": 21,
   "metadata": {
    "slideshow": {
     "slide_type": "subslide"
    }
   },
   "outputs": [
    {
     "name": "stdout",
     "output_type": "stream",
     "text": [
      "0.8425\n"
     ]
    }
   ],
   "source": [
    "cnt = 0\n",
    "for i in data['clean_review']:\n",
    "    if(len(i.split()) <= 100):\n",
    "        cnt = cnt + 1\n",
    "print(cnt / len(data['clean_review']))"
   ]
  },
  {
   "cell_type": "markdown",
   "metadata": {
    "slideshow": {
     "slide_type": "skip"
    }
   },
   "source": [
    "Nearly 85% of the review text have length below 100. We will ifx maximum lenght of review to 100."
   ]
  },
  {
   "cell_type": "code",
   "execution_count": 22,
   "metadata": {
    "slideshow": {
     "slide_type": "skip"
    }
   },
   "outputs": [],
   "source": [
    "#Model to summarize the text between 0-10 words for Summary and 0-150 words for Text\n",
    "max_text_len = 100\n",
    "max_summary_len = 15"
   ]
  },
  {
   "cell_type": "code",
   "execution_count": 23,
   "metadata": {
    "slideshow": {
     "slide_type": "skip"
    }
   },
   "outputs": [],
   "source": [
    "clean_review = np.array(data['clean_review'])\n",
    "clean_summary = np.array(data['clean_summary'])\n",
    "indices = np.array(data['reviewIndex'])\n",
    "\n",
    "short_review=[]\n",
    "short_summary=[]\n",
    "short_review_summary_indices = []\n",
    "\n",
    "for i in indices:\n",
    "    if(len(clean_summary[i].split()) <= max_summary_len and len(clean_review[i].split()) <= max_text_len):\n",
    "        short_review.append(clean_review[i])\n",
    "        short_summary.append(clean_summary[i])\n",
    "        short_review_summary_indices.append(i)\n",
    "        \n",
    "df = pd.DataFrame({'index': short_review_summary_indices, 'review':short_review, 'summary':short_summary})"
   ]
  },
  {
   "cell_type": "markdown",
   "metadata": {
    "slideshow": {
     "slide_type": "skip"
    }
   },
   "source": [
    "In order to help our model identify the start and the end of the summary, we added special tokens. We choose SOSTOK and EOSTOK as the start token and end token, repectively."
   ]
  },
  {
   "cell_type": "code",
   "execution_count": 24,
   "metadata": {
    "slideshow": {
     "slide_type": "subslide"
    }
   },
   "outputs": [],
   "source": [
    "df['summary'] = df['summary'].apply(lambda x : 'sostok ' + x + ' eostok')"
   ]
  },
  {
   "cell_type": "code",
   "execution_count": 25,
   "metadata": {
    "slideshow": {
     "slide_type": "subslide"
    }
   },
   "outputs": [
    {
     "data": {
      "text/html": [
       "<div>\n",
       "<style scoped>\n",
       "    .dataframe tbody tr th:only-of-type {\n",
       "        vertical-align: middle;\n",
       "    }\n",
       "\n",
       "    .dataframe tbody tr th {\n",
       "        vertical-align: top;\n",
       "    }\n",
       "\n",
       "    .dataframe thead th {\n",
       "        text-align: right;\n",
       "    }\n",
       "</style>\n",
       "<table border=\"1\" class=\"dataframe\">\n",
       "  <thead>\n",
       "    <tr style=\"text-align: right;\">\n",
       "      <th></th>\n",
       "      <th>index</th>\n",
       "      <th>review</th>\n",
       "      <th>summary</th>\n",
       "    </tr>\n",
       "  </thead>\n",
       "  <tbody>\n",
       "    <tr>\n",
       "      <th>0</th>\n",
       "      <td>0</td>\n",
       "      <td>it good for beginners</td>\n",
       "      <td>sostok _START_ five stars _END_ eostok</td>\n",
       "    </tr>\n",
       "    <tr>\n",
       "      <th>1</th>\n",
       "      <td>1</td>\n",
       "      <td>i recommend this starter ukulele kit has every...</td>\n",
       "      <td>sostok _START_ five stars _END_ eostok</td>\n",
       "    </tr>\n",
       "    <tr>\n",
       "      <th>2</th>\n",
       "      <td>2</td>\n",
       "      <td>g daughter received this for christmas present...</td>\n",
       "      <td>sostok _START_ learning new songs to play regu...</td>\n",
       "    </tr>\n",
       "    <tr>\n",
       "      <th>3</th>\n",
       "      <td>4</td>\n",
       "      <td>please pay attention better than did to the re...</td>\n",
       "      <td>sostok _START_ poor quality product. _END_ eostok</td>\n",
       "    </tr>\n",
       "    <tr>\n",
       "      <th>4</th>\n",
       "      <td>5</td>\n",
       "      <td>i purchased this as gift for friend who really...</td>\n",
       "      <td>sostok _START_ good starter kit _END_ eostok</td>\n",
       "    </tr>\n",
       "  </tbody>\n",
       "</table>\n",
       "</div>"
      ],
      "text/plain": [
       "   index                                             review  \\\n",
       "0      0                              it good for beginners   \n",
       "1      1  i recommend this starter ukulele kit has every...   \n",
       "2      2  g daughter received this for christmas present...   \n",
       "3      4  please pay attention better than did to the re...   \n",
       "4      5  i purchased this as gift for friend who really...   \n",
       "\n",
       "                                             summary  \n",
       "0             sostok _START_ five stars _END_ eostok  \n",
       "1             sostok _START_ five stars _END_ eostok  \n",
       "2  sostok _START_ learning new songs to play regu...  \n",
       "3  sostok _START_ poor quality product. _END_ eostok  \n",
       "4       sostok _START_ good starter kit _END_ eostok  "
      ]
     },
     "execution_count": 25,
     "metadata": {},
     "output_type": "execute_result"
    }
   ],
   "source": [
    "df.head()"
   ]
  },
  {
   "cell_type": "markdown",
   "metadata": {
    "slideshow": {
     "slide_type": "subslide"
    }
   },
   "source": [
    "### Split training set and validation set\n",
    "\n",
    "We will use 90% of the data for training the model and hold out the remaining 10% as the validation set."
   ]
  },
  {
   "cell_type": "code",
   "execution_count": 26,
   "metadata": {
    "slideshow": {
     "slide_type": "skip"
    }
   },
   "outputs": [],
   "source": [
    "all_indices = list(range(len(df)))\n",
    "train_indices, val_indices = train_test_split(all_indices,\n",
    "                                              test_size=0.1, random_state = 1)"
   ]
  },
  {
   "cell_type": "code",
   "execution_count": 27,
   "metadata": {
    "slideshow": {
     "slide_type": "skip"
    }
   },
   "outputs": [],
   "source": [
    "x_train = df.iloc[train_indices, 1]\n",
    "y_train = df.iloc[train_indices, 2]\n",
    "x_val = df.iloc[val_indices, 1]\n",
    "y_val = df.iloc[val_indices, 2]"
   ]
  },
  {
   "cell_type": "markdown",
   "metadata": {
    "slideshow": {
     "slide_type": "subslide"
    }
   },
   "source": [
    "### Tokenizer\n",
    "\n",
    "By implementing tokenizer in Keras, we converted text sequences to integer sequences, which allows us to feed the data into the model."
   ]
  },
  {
   "cell_type": "markdown",
   "metadata": {
    "slideshow": {
     "slide_type": "subslide"
    }
   },
   "source": [
    "#### Text tokenizer\n",
    "\n",
    "First of all, let's perform rare words analysis. If the word appears less than given times, we will consider it as a rare word. In this project, if the word appears less than 4 times in review text, we consider it as a rare word, while if the word appears less than 6 times in summary, we treat it as a rare word as well."
   ]
  },
  {
   "cell_type": "code",
   "execution_count": 28,
   "metadata": {
    "slideshow": {
     "slide_type": "subslide"
    }
   },
   "outputs": [],
   "source": [
    "x_tokenizer = Tokenizer()\n",
    "x_tokenizer.fit_on_texts(list(x_train))"
   ]
  },
  {
   "cell_type": "code",
   "execution_count": 29,
   "metadata": {
    "slideshow": {
     "slide_type": "subslide"
    }
   },
   "outputs": [
    {
     "name": "stdout",
     "output_type": "stream",
     "text": [
      "% of rare words in vocabulary: 64.61363708074337\n"
     ]
    }
   ],
   "source": [
    "review_thresh = 4\n",
    "\n",
    "rare_cnt = 0\n",
    "tot_cnt=0\n",
    "\n",
    "for key,value in x_tokenizer.word_counts.items():\n",
    "    tot_cnt = tot_cnt + 1\n",
    "    if(value < review_thresh):\n",
    "        rare_cnt = rare_cnt + 1\n",
    "    \n",
    "print(\"% of rare words in vocabulary:\",(rare_cnt / tot_cnt)*100)"
   ]
  },
  {
   "cell_type": "markdown",
   "metadata": {
    "slideshow": {
     "slide_type": "skip"
    }
   },
   "source": [
    "We will only tokenize the top most common words."
   ]
  },
  {
   "cell_type": "code",
   "execution_count": 30,
   "metadata": {
    "slideshow": {
     "slide_type": "subslide"
    }
   },
   "outputs": [
    {
     "name": "stdout",
     "output_type": "stream",
     "text": [
      "Size of vocabulary in X = 11216\n"
     ]
    }
   ],
   "source": [
    "# Prepare a tokenizer for reviews on training data\n",
    "x_tokenizer = Tokenizer(tot_cnt - rare_cnt)\n",
    "x_tokenizer.fit_on_texts(list(x_train))\n",
    "\n",
    "# Convert text sequences into integer sequences\n",
    "x_train = x_tokenizer.texts_to_sequences(x_train) \n",
    "x_val = x_tokenizer.texts_to_sequences(x_val)\n",
    "\n",
    "# Padding zero up to maximum length\n",
    "x_train = pad_sequences(x_train,  maxlen = max_text_len, padding = 'post') \n",
    "x_val = pad_sequences(x_val, maxlen = max_text_len, padding = 'post')\n",
    "\n",
    "# Size of vocabulary ( +1 for padding token)\n",
    "x_voc   =  x_tokenizer.num_words + 1\n",
    "\n",
    "print(\"Size of vocabulary in X = {}\".format(x_voc))"
   ]
  },
  {
   "cell_type": "markdown",
   "metadata": {
    "slideshow": {
     "slide_type": "subslide"
    }
   },
   "source": [
    "#### Summary tokenizer\n",
    "\n",
    "Perform the same procedures on summary tokenizer."
   ]
  },
  {
   "cell_type": "code",
   "execution_count": 31,
   "metadata": {
    "slideshow": {
     "slide_type": "skip"
    }
   },
   "outputs": [],
   "source": [
    "y_tokenizer = Tokenizer()\n",
    "y_tokenizer.fit_on_texts(list(y_train))"
   ]
  },
  {
   "cell_type": "code",
   "execution_count": 32,
   "metadata": {
    "slideshow": {
     "slide_type": "skip"
    }
   },
   "outputs": [
    {
     "name": "stdout",
     "output_type": "stream",
     "text": [
      "% of rare words in vocabulary: 76.33030788396512\n"
     ]
    }
   ],
   "source": [
    "summary_thresh = 6\n",
    "\n",
    "rare_cnt = 0\n",
    "tot_cnt = 0\n",
    "\n",
    "for key,value in y_tokenizer.word_counts.items():\n",
    "    tot_cnt = tot_cnt + 1\n",
    "    if(value < summary_thresh):\n",
    "        rare_cnt = rare_cnt+1\n",
    "    \n",
    "print(\"% of rare words in vocabulary:\",(rare_cnt / tot_cnt)*100)"
   ]
  },
  {
   "cell_type": "code",
   "execution_count": 33,
   "metadata": {
    "slideshow": {
     "slide_type": "subslide"
    }
   },
   "outputs": [
    {
     "name": "stdout",
     "output_type": "stream",
     "text": [
      "Size of vocabulary in Y = 2661\n"
     ]
    }
   ],
   "source": [
    "# Prepare a tokenizer for summary on training data \n",
    "y_tokenizer = Tokenizer(tot_cnt - rare_cnt)\n",
    "y_tokenizer.fit_on_texts(list(y_train))\n",
    "\n",
    "# Convert summary sequences into integer sequences\n",
    "y_train = y_tokenizer.texts_to_sequences(y_train) \n",
    "y_val = y_tokenizer.texts_to_sequences(y_val) \n",
    "\n",
    "# Padding zero up to maximum length\n",
    "y_train = pad_sequences(y_train, maxlen = max_summary_len, padding = 'post')\n",
    "y_val = pad_sequences(y_val, maxlen = max_summary_len, padding = 'post')\n",
    "\n",
    "# Size of vocabulary ( +1 for padding token)\n",
    "y_voc   =  y_tokenizer.num_words + 1\n",
    "\n",
    "print(\"Size of vocabulary in Y = {}\".format(y_voc))"
   ]
  },
  {
   "cell_type": "markdown",
   "metadata": {
    "slideshow": {
     "slide_type": "skip"
    }
   },
   "source": [
    "Remove \"Summary\" i.e Y (both train and val) which has only START and END."
   ]
  },
  {
   "cell_type": "code",
   "execution_count": 34,
   "metadata": {
    "slideshow": {
     "slide_type": "skip"
    }
   },
   "outputs": [],
   "source": [
    "ind = []\n",
    "for i in range(len(y_train)):\n",
    "    cnt = 0\n",
    "    for j in y_train[i]:\n",
    "        if j != 0:\n",
    "            cnt = cnt + 1\n",
    "    if(cnt == 2):\n",
    "        ind.append(i)\n",
    "\n",
    "y_train = np.delete(y_train, ind, axis=0)\n",
    "x_train = np.delete(x_train, ind, axis=0)"
   ]
  },
  {
   "cell_type": "code",
   "execution_count": 35,
   "metadata": {
    "slideshow": {
     "slide_type": "skip"
    }
   },
   "outputs": [],
   "source": [
    "ind = []\n",
    "for i in range(len(y_val)):\n",
    "    cnt = 0\n",
    "    for j in y_val[i]:\n",
    "        if j != 0:\n",
    "            cnt = cnt + 1\n",
    "    if(cnt == 2):\n",
    "        ind.append(i)\n",
    "\n",
    "y_val = np.delete(y_val, ind, axis=0)\n",
    "x_val = np.delete(x_val, ind, axis=0)"
   ]
  },
  {
   "attachments": {},
   "cell_type": "markdown",
   "metadata": {
    "slideshow": {
     "slide_type": "subslide"
    }
   },
   "source": [
    "### Modelling\n",
    "\n",
    "#### Training Phase\n",
    "\n",
    "We built a sequence to sequence model with 3 LSTM layers in the encoder, 1 LSTM layer and 1 fully connected layer in the decoder. While we set the optimization method to RMS prop and use categorical crossentropy to measure the loss."
   ]
  },
  {
   "attachments": {
    "Modeling.png": {
     "image/png": "[encoded data removed]"
    }
   },
   "cell_type": "markdown",
   "metadata": {
    "slideshow": {
     "slide_type": "subslide"
    }
   },
   "source": [
    "![Modeling.png](attachment:Modeling.png)"
   ]
  },
  {
   "cell_type": "code",
   "execution_count": 36,
   "metadata": {
    "slideshow": {
     "slide_type": "skip"
    }
   },
   "outputs": [
    {
     "name": "stdout",
     "output_type": "stream",
     "text": [
      "Model: \"functional_1\"\n",
      "__________________________________________________________________________________________________\n",
      "Layer (type)                    Output Shape         Param #     Connected to                     \n",
      "==================================================================================================\n",
      "input_1 (InputLayer)            [(None, 100)]        0                                            \n",
      "__________________________________________________________________________________________________\n",
      "embedding (Embedding)           (None, 100, 200)     2243200     input_1[0][0]                    \n",
      "__________________________________________________________________________________________________\n",
      "lstm (LSTM)                     [(None, 100, 300), ( 601200      embedding[0][0]                  \n",
      "__________________________________________________________________________________________________\n",
      "input_2 (InputLayer)            [(None, None)]       0                                            \n",
      "__________________________________________________________________________________________________\n",
      "lstm_1 (LSTM)                   [(None, 100, 300), ( 721200      lstm[0][0]                       \n",
      "__________________________________________________________________________________________________\n",
      "embedding_1 (Embedding)         (None, None, 200)    532200      input_2[0][0]                    \n",
      "__________________________________________________________________________________________________\n",
      "lstm_2 (LSTM)                   [(None, 100, 300), ( 721200      lstm_1[0][0]                     \n",
      "__________________________________________________________________________________________________\n",
      "lstm_3 (LSTM)                   [(None, None, 300),  601200      embedding_1[0][0]                \n",
      "                                                                 lstm_2[0][1]                     \n",
      "                                                                 lstm_2[0][2]                     \n",
      "__________________________________________________________________________________________________\n",
      "time_distributed (TimeDistribut (None, None, 2661)   800961      lstm_3[0][0]                     \n",
      "==================================================================================================\n",
      "Total params: 6,221,161\n",
      "Trainable params: 6,221,161\n",
      "Non-trainable params: 0\n",
      "__________________________________________________________________________________________________\n"
     ]
    }
   ],
   "source": [
    "from keras import backend as K \n",
    "K.clear_session() \n",
    "latent_dim = 300\n",
    "embedding_dim = 200\n",
    "\n",
    "# Encoder \n",
    "encoder_inputs = Input(shape=(max_text_len,)) \n",
    "encoder_emb = Embedding(x_voc, embedding_dim, trainable=True)(encoder_inputs) \n",
    "\n",
    "#LSTM 1 \n",
    "encoder_lstm1 = LSTM(latent_dim, return_sequences = True, return_state=True, dropout=0.4, recurrent_dropout=0.4) \n",
    "encoder_output1, state_h1, state_c1 = encoder_lstm1(encoder_emb) \n",
    "\n",
    "#LSTM 2 \n",
    "encoder_lstm2 = LSTM(latent_dim, return_sequences = True, return_state = True, dropout=0.4,recurrent_dropout=0.4) \n",
    "encoder_output2, state_h2, state_c2 = encoder_lstm2(encoder_output1) \n",
    "\n",
    "#LSTM 3 \n",
    "encoder_lstm3 = LSTM(latent_dim, return_state = True, return_sequences = True, dropout=0.4,recurrent_dropout=0.4) \n",
    "encoder_outputs3, state_h3, state_c3 = encoder_lstm3(encoder_output2) \n",
    "\n",
    "#Set up the decoder. \n",
    "decoder_inputs = Input(shape=(None,)) \n",
    "decoder_emb_layer = Embedding(y_voc, embedding_dim, trainable=True)\n",
    "decoder_emb = decoder_emb_layer(decoder_inputs) \n",
    "\n",
    "#LSTM using encoder_states as initial state\n",
    "decoder_lstm = LSTM(latent_dim, return_sequences = True, return_state = True, dropout=0.4,recurrent_dropout=0.2) \n",
    "decoder_outputs, decoder_fwd_state, decoder_back_state = decoder_lstm(decoder_emb, initial_state=[state_h3, state_c3]) \n",
    "\n",
    "#Dense layer\n",
    "decoder_dense = TimeDistributed(Dense(y_voc, activation='softmax')) \n",
    "decoder_outputs = decoder_dense(decoder_outputs) \n",
    "\n",
    "#Define the model\n",
    "model = Model(inputs = [encoder_inputs, decoder_inputs], outputs = decoder_outputs) \n",
    "model.summary()"
   ]
  },
  {
   "cell_type": "code",
   "execution_count": 37,
   "metadata": {
    "slideshow": {
     "slide_type": "skip"
    }
   },
   "outputs": [],
   "source": [
    "model.compile(optimizer='rmsprop', loss='sparse_categorical_crossentropy')"
   ]
  },
  {
   "cell_type": "code",
   "execution_count": 38,
   "metadata": {
    "slideshow": {
     "slide_type": "skip"
    }
   },
   "outputs": [],
   "source": [
    "es = EarlyStopping(monitor = 'val_loss', mode = 'min', verbose = 1, patience = 2)"
   ]
  },
  {
   "cell_type": "code",
   "execution_count": 40,
   "metadata": {
    "slideshow": {
     "slide_type": "skip"
    }
   },
   "outputs": [
    {
     "name": "stdout",
     "output_type": "stream",
     "text": [
      "Epoch 1/50\n",
      "292/292 [==============================] - 793s 3s/step - loss: 1.7017 - val_loss: 1.4447\n",
      "Epoch 2/50\n",
      "292/292 [==============================] - 785s 3s/step - loss: 1.4335 - val_loss: 1.3553\n",
      "Epoch 3/50\n",
      "292/292 [==============================] - 782s 3s/step - loss: 1.3596 - val_loss: 1.3092\n",
      "Epoch 4/50\n",
      "292/292 [==============================] - 783s 3s/step - loss: 1.3126 - val_loss: 1.2746\n",
      "Epoch 5/50\n",
      "292/292 [==============================] - 783s 3s/step - loss: 1.2749 - val_loss: 1.2494\n",
      "Epoch 6/50\n",
      "292/292 [==============================] - 782s 3s/step - loss: 1.2452 - val_loss: 1.2290\n",
      "Epoch 7/50\n",
      "292/292 [==============================] - 782s 3s/step - loss: 1.2201 - val_loss: 1.2138\n",
      "Epoch 8/50\n",
      "292/292 [==============================] - 783s 3s/step - loss: 1.1978 - val_loss: 1.1990\n",
      "Epoch 9/50\n",
      "292/292 [==============================] - 782s 3s/step - loss: 1.1761 - val_loss: 1.1857\n",
      "Epoch 10/50\n",
      "292/292 [==============================] - 783s 3s/step - loss: 1.1562 - val_loss: 1.1790\n",
      "Epoch 11/50\n",
      "292/292 [==============================] - 782s 3s/step - loss: 1.1397 - val_loss: 1.1706\n",
      "Epoch 12/50\n",
      "292/292 [==============================] - 782s 3s/step - loss: 1.1237 - val_loss: 1.1632\n",
      "Epoch 13/50\n",
      "292/292 [==============================] - 782s 3s/step - loss: 1.1089 - val_loss: 1.1613\n",
      "Epoch 14/50\n",
      "292/292 [==============================] - 783s 3s/step - loss: 1.0946 - val_loss: 1.1566\n",
      "Epoch 15/50\n",
      "292/292 [==============================] - 783s 3s/step - loss: 1.0814 - val_loss: 1.1493\n",
      "Epoch 16/50\n",
      "292/292 [==============================] - 782s 3s/step - loss: 1.0683 - val_loss: 1.1475\n",
      "Epoch 17/50\n",
      "292/292 [==============================] - 782s 3s/step - loss: 1.0564 - val_loss: 1.1432\n",
      "Epoch 18/50\n",
      "292/292 [==============================] - 782s 3s/step - loss: 1.0447 - val_loss: 1.1436\n",
      "Epoch 19/50\n",
      "292/292 [==============================] - 783s 3s/step - loss: 1.0337 - val_loss: 1.1453\n",
      "Epoch 00019: early stopping\n"
     ]
    }
   ],
   "source": [
    "history = model.fit(x = [x_train,y_train[:,:-1]], y = y_train.reshape(y_train.shape[0],y_train.shape[1], 1)[:,1:],\\\n",
    "                    epochs = 50, callbacks = [es], batch_size = 256, \\\n",
    "                    validation_data = ([x_val,y_val[:,:-1]], y_val.reshape(y_val.shape[0],y_val.shape[1], 1)[:,1:]))"
   ]
  },
  {
   "cell_type": "code",
   "execution_count": 41,
   "metadata": {
    "slideshow": {
     "slide_type": "skip"
    }
   },
   "outputs": [],
   "source": [
    "model.save_weights('summarization_weights_2.h5')"
   ]
  },
  {
   "cell_type": "code",
   "execution_count": 42,
   "metadata": {
    "slideshow": {
     "slide_type": "skip"
    }
   },
   "outputs": [
    {
     "name": "stdout",
     "output_type": "stream",
     "text": [
      "WARNING:tensorflow:From /home/xyyin/anaconda3/lib/python3.7/site-packages/tensorflow/python/training/tracking/tracking.py:111: Model.state_updates (from tensorflow.python.keras.engine.training) is deprecated and will be removed in a future version.\n",
      "Instructions for updating:\n",
      "This property should not be used in TensorFlow 2.0, as updates are applied automatically.\n",
      "WARNING:tensorflow:From /home/xyyin/anaconda3/lib/python3.7/site-packages/tensorflow/python/training/tracking/tracking.py:111: Layer.updates (from tensorflow.python.keras.engine.base_layer) is deprecated and will be removed in a future version.\n",
      "Instructions for updating:\n",
      "This property should not be used in TensorFlow 2.0, as updates are applied automatically.\n",
      "INFO:tensorflow:Assets written to: summary_model_2/assets\n"
     ]
    }
   ],
   "source": [
    "model.save(\"summary_model_2\")"
   ]
  },
  {
   "cell_type": "code",
   "execution_count": 43,
   "metadata": {
    "scrolled": true,
    "slideshow": {
     "slide_type": "subslide"
    }
   },
   "outputs": [
    {
     "data": {
      "image/png": "[encoded data removed]",
      "text/plain": [
       "<Figure size 432x288 with 1 Axes>"
      ]
     },
     "metadata": {
      "needs_background": "light"
     },
     "output_type": "display_data"
    }
   ],
   "source": [
    "from matplotlib import pyplot\n",
    "pyplot.plot(history.history['loss'], label = 'training')\n",
    "pyplot.plot(history.history['val_loss'], label = 'validation')\n",
    "pyplot.legend()\n",
    "pyplot.show()"
   ]
  },
  {
   "cell_type": "markdown",
   "metadata": {
    "slideshow": {
     "slide_type": "skip"
    }
   },
   "source": [
    "The model stop at epoch 19 with the loss of 1.03 and the validation loss of 1.15."
   ]
  },
  {
   "cell_type": "markdown",
   "metadata": {
    "slideshow": {
     "slide_type": "subslide"
    }
   },
   "source": [
    "#### Inference Phase"
   ]
  },
  {
   "cell_type": "code",
   "execution_count": 44,
   "metadata": {
    "slideshow": {
     "slide_type": "subslide"
    }
   },
   "outputs": [],
   "source": [
    "# Encode the input sequence to get the feature vector\n",
    "encoder_model = Model(inputs=encoder_inputs,outputs=[encoder_outputs3, state_h3, state_c3])\n",
    "\n",
    "# Decoder setup\n",
    "# Below tensors will hold the states of the previous time step\n",
    "decoder_state_input_h = Input(shape=(latent_dim,))\n",
    "decoder_state_input_c = Input(shape=(latent_dim,))\n",
    "decoder_hidden_state_input = Input(shape=(max_text_len,latent_dim))\n",
    "\n",
    "# Get the embeddings of the decoder sequence\n",
    "dec_emb2 = decoder_emb_layer(decoder_inputs) \n",
    "# To predict the next word in the sequence, set the initial states to the states from the previous time step\n",
    "decoder_outputs2, state_h2, state_c2 = decoder_lstm(dec_emb2, initial_state=[decoder_state_input_h, decoder_state_input_c])\n",
    "\n",
    "# A dense softmax layer to generate prob dist. over the target vocabulary\n",
    "decoder_outputs2 = decoder_dense(decoder_outputs2) \n",
    "\n",
    "# Final decoder model\n",
    "decoder_model = Model(\n",
    "    [decoder_inputs] + [decoder_hidden_state_input,decoder_state_input_h, decoder_state_input_c],\n",
    "    [decoder_outputs2] + [state_h2, state_c2])"
   ]
  },
  {
   "cell_type": "markdown",
   "metadata": {
    "slideshow": {
     "slide_type": "skip"
    }
   },
   "source": [
    "Convert index back to words"
   ]
  },
  {
   "cell_type": "code",
   "execution_count": 45,
   "metadata": {
    "slideshow": {
     "slide_type": "skip"
    }
   },
   "outputs": [],
   "source": [
    "reverse_target_word_index = y_tokenizer.index_word \n",
    "reverse_source_word_index = x_tokenizer.index_word \n",
    "target_word_index = y_tokenizer.word_index"
   ]
  },
  {
   "cell_type": "markdown",
   "metadata": {
    "slideshow": {
     "slide_type": "skip"
    }
   },
   "source": [
    "Define a function to decode the predicted summary"
   ]
  },
  {
   "cell_type": "code",
   "execution_count": 46,
   "metadata": {
    "slideshow": {
     "slide_type": "subslide"
    }
   },
   "outputs": [],
   "source": [
    "def decode_sequence(input_seq):\n",
    " \n",
    "    # Encode the input as state vectors.\n",
    "    e_out, e_h, e_c = encoder_model.predict(input_seq)\n",
    "\n",
    "    \n",
    "    # Generate empty target sequence of length 1.\n",
    "    target_seq = np.zeros((1,1))\n",
    "\n",
    "    # Chose the 'start' word as the first word of the target sequence\n",
    "    target_seq[0, 0] = target_word_index['sostok']\n",
    "\n",
    "    stop_condition = False\n",
    "    decoded_sentence = ''\n",
    "\n",
    "    while not stop_condition:\n",
    "        output_tokens, h, c = decoder_model.predict([target_seq] + [e_out, e_h, e_c])\n",
    "\n",
    "        # Sample a token\n",
    "        sampled_token_index = np.argmax(output_tokens[0, -1, :])\n",
    "        sampled_token = reverse_target_word_index[sampled_token_index]\n",
    "\n",
    "        if(sampled_token != 'eostok'):\n",
    "            decoded_sentence += ' '+ sampled_token\n",
    "\n",
    "        # Exit condition: either hit max length or find stop word.\n",
    "        if (sampled_token == 'eostok' or len(decoded_sentence.split()) >= (max_summary_len-1)):\n",
    "            stop_condition = True\n",
    "\n",
    "        # Update the target sequence (of length 1).\n",
    "        target_seq = np.zeros((1,1))\n",
    "        target_seq[0, 0] = sampled_token_index\n",
    "\n",
    "        # Update internal states\n",
    "        e_h, e_c = h, c\n",
    "\n",
    "    return decoded_sentence"
   ]
  },
  {
   "cell_type": "code",
   "execution_count": 47,
   "metadata": {
    "slideshow": {
     "slide_type": "subslide"
    }
   },
   "outputs": [],
   "source": [
    "def seq2summary(input_seq):\n",
    "    newString = ''\n",
    "    for i in input_seq:\n",
    "        if((i != 0 and i != target_word_index['sostok']) and i != target_word_index['eostok']):\n",
    "            newString = newString + reverse_target_word_index[i] + ' '\n",
    "    return newString\n",
    "\n",
    "def seq2text(input_seq):\n",
    "    newString = ''\n",
    "    for i in input_seq:\n",
    "        if(i!=0):\n",
    "            newString = newString + reverse_source_word_index[i] + ' '\n",
    "    return newString"
   ]
  },
  {
   "cell_type": "markdown",
   "metadata": {
    "slideshow": {
     "slide_type": "skip"
    }
   },
   "source": [
    "Check the result of the first 5 summaries"
   ]
  },
  {
   "cell_type": "code",
   "execution_count": 48,
   "metadata": {
    "scrolled": true,
    "slideshow": {
     "slide_type": "subslide"
    }
   },
   "outputs": [
    {
     "name": "stdout",
     "output_type": "stream",
     "text": [
      "Review: my go to strings \n",
      "Original summary: start five stars end \n",
      "Predicted summary:  start five stars end\n",
      "\n",
      "\n",
      "Review: works great for what it is designed for \n",
      "Original summary: start works perfect end \n",
      "Predicted summary:  start works great end\n",
      "\n",
      "\n",
      "Review: positions mike perfectly \n",
      "Original summary: start good and sturdy end \n",
      "Predicted summary:  start five stars end\n",
      "\n",
      "\n",
      "Review: a very beefy high quality cable \n",
      "Original summary: start five stars end \n",
      "Predicted summary:  start five stars end\n",
      "\n",
      "\n",
      "Review: works for both of my martin 12 string guitars in my opinion if you want longevity with these humidifiers use distilled water only tap water or treated water seems to shorten its life span \n",
      "Original summary: start herco guitar humidifier end \n",
      "Predicted summary:  start i like it but they don have to be end\n",
      "\n",
      "\n"
     ]
    }
   ],
   "source": [
    "for i in range(5):\n",
    "    print(\"Review:\",seq2text(x_val[i]))\n",
    "    print(\"Original summary:\",seq2summary(y_val[i]))\n",
    "    print(\"Predicted summary:\",decode_sequence(x_val[i].reshape(1,max_text_len)))\n",
    "    print(\"\\n\")"
   ]
  },
  {
   "cell_type": "markdown",
   "metadata": {
    "slideshow": {
     "slide_type": "skip"
    }
   },
   "source": [
    "Decode the predicted summaries of all reviews in validation set."
   ]
  },
  {
   "cell_type": "code",
   "execution_count": 77,
   "metadata": {
    "scrolled": false,
    "slideshow": {
     "slide_type": "skip"
    }
   },
   "outputs": [
    {
     "name": "stdout",
     "output_type": "stream",
     "text": [
      "0 records have been processed.\n",
      "1000 records have been processed.\n",
      "2000 records have been processed.\n",
      "3000 records have been processed.\n",
      "4000 records have been processed.\n",
      "5000 records have been processed.\n",
      "6000 records have been processed.\n",
      "7000 records have been processed.\n",
      "8000 records have been processed.\n",
      "CPU times: user 3 µs, sys: 0 ns, total: 3 µs\n",
      "Wall time: 5.96 µs\n"
     ]
    }
   ],
   "source": [
    "predicted_summaries = []\n",
    "for i in range(len(x_val)):         \n",
    "    predicted_summary = decode_sequence(x_val[i].reshape(1,max_text_len))\n",
    "    predicted_summary = \" \".join(predicted_summary.split()[1:-1])\n",
    "    predicted_summaries.append(predicted_summary) \n",
    "    if i % 1000 == 0:\n",
    "        print(\"%d records have been processed.\"%i)\n",
    "\n",
    "%time"
   ]
  },
  {
   "cell_type": "markdown",
   "metadata": {
    "slideshow": {
     "slide_type": "subslide"
    }
   },
   "source": [
    "#### Format final data frame"
   ]
  },
  {
   "cell_type": "markdown",
   "metadata": {
    "slideshow": {
     "slide_type": "skip"
    }
   },
   "source": [
    "Save the results of both summarizations for further evaluation and classification."
   ]
  },
  {
   "cell_type": "code",
   "execution_count": 114,
   "metadata": {
    "slideshow": {
     "slide_type": "skip"
    }
   },
   "outputs": [],
   "source": [
    "val_df = df.iloc[val_indices,:]\n",
    "val_df['predicted_summary'] = predicted_summaries\n",
    "final_df = val_df.merge(data, how = 'left', left_on = 'index', right_on = 'reviewIndex')"
   ]
  },
  {
   "cell_type": "code",
   "execution_count": 115,
   "metadata": {
    "scrolled": false,
    "slideshow": {
     "slide_type": "skip"
    }
   },
   "outputs": [
    {
     "data": {
      "text/plain": [
       "514"
      ]
     },
     "execution_count": 115,
     "metadata": {},
     "output_type": "execute_result"
    }
   ],
   "source": [
    "final_df[\"predicted_summary\"].nunique()"
   ]
  },
  {
   "cell_type": "code",
   "execution_count": 116,
   "metadata": {
    "slideshow": {
     "slide_type": "skip"
    }
   },
   "outputs": [
    {
     "data": {
      "text/html": [
       "<div>\n",
       "<style scoped>\n",
       "    .dataframe tbody tr th:only-of-type {\n",
       "        vertical-align: middle;\n",
       "    }\n",
       "\n",
       "    .dataframe tbody tr th {\n",
       "        vertical-align: top;\n",
       "    }\n",
       "\n",
       "    .dataframe thead th {\n",
       "        text-align: right;\n",
       "    }\n",
       "</style>\n",
       "<table border=\"1\" class=\"dataframe\">\n",
       "  <thead>\n",
       "    <tr style=\"text-align: right;\">\n",
       "      <th></th>\n",
       "      <th>index</th>\n",
       "      <th>review</th>\n",
       "      <th>summary_x</th>\n",
       "      <th>predicted_summary</th>\n",
       "      <th>overall</th>\n",
       "      <th>reviewText</th>\n",
       "      <th>summary_y</th>\n",
       "      <th>reviewIndex</th>\n",
       "      <th>extractive_summary</th>\n",
       "      <th>clean_review</th>\n",
       "      <th>clean_summary</th>\n",
       "    </tr>\n",
       "  </thead>\n",
       "  <tbody>\n",
       "    <tr>\n",
       "      <th>0</th>\n",
       "      <td>20629</td>\n",
       "      <td>my go to strings</td>\n",
       "      <td>sostok _START_ five stars _END_ eostok</td>\n",
       "      <td>five stars</td>\n",
       "      <td>5.0</td>\n",
       "      <td>My go to strings!</td>\n",
       "      <td>Five Stars</td>\n",
       "      <td>20629</td>\n",
       "      <td>[My go to strings!]</td>\n",
       "      <td>my go to strings</td>\n",
       "      <td>_START_ five stars _END_</td>\n",
       "    </tr>\n",
       "    <tr>\n",
       "      <th>1</th>\n",
       "      <td>70961</td>\n",
       "      <td>works great for what it is designed for</td>\n",
       "      <td>sostok _START_ works perfect _END_ eostok</td>\n",
       "      <td>works great</td>\n",
       "      <td>4.0</td>\n",
       "      <td>Works great for what it is designed for</td>\n",
       "      <td>Works perfect</td>\n",
       "      <td>70961</td>\n",
       "      <td>[Works great for what it is designed for]</td>\n",
       "      <td>works great for what it is designed for</td>\n",
       "      <td>_START_ works perfect _END_</td>\n",
       "    </tr>\n",
       "    <tr>\n",
       "      <th>2</th>\n",
       "      <td>30587</td>\n",
       "      <td>positions mike perfectly</td>\n",
       "      <td>sostok _START_ good and sturdy _END_ eostok</td>\n",
       "      <td>five stars</td>\n",
       "      <td>5.0</td>\n",
       "      <td>positions mike perfectly</td>\n",
       "      <td>good and sturdy</td>\n",
       "      <td>30587</td>\n",
       "      <td>[positions mike perfectly]</td>\n",
       "      <td>positions mike perfectly</td>\n",
       "      <td>_START_ good and sturdy _END_</td>\n",
       "    </tr>\n",
       "    <tr>\n",
       "      <th>3</th>\n",
       "      <td>91201</td>\n",
       "      <td>a very beefy high quality cable.</td>\n",
       "      <td>sostok _START_ five stars _END_ eostok</td>\n",
       "      <td>five stars</td>\n",
       "      <td>5.0</td>\n",
       "      <td>A very beefy high quality cable.</td>\n",
       "      <td>Five Stars</td>\n",
       "      <td>91201</td>\n",
       "      <td>[A very beefy high quality cable.]</td>\n",
       "      <td>a very beefy high quality cable.</td>\n",
       "      <td>_START_ five stars _END_</td>\n",
       "    </tr>\n",
       "    <tr>\n",
       "      <th>4</th>\n",
       "      <td>48034</td>\n",
       "      <td>works for both of my martin 12 string guitars ...</td>\n",
       "      <td>sostok _START_ herco he360 guitar humidifier _...</td>\n",
       "      <td>i like it but they don have to be</td>\n",
       "      <td>5.0</td>\n",
       "      <td>Works for both of my Martin 12 string guitars....</td>\n",
       "      <td>Herco HE360 Guitar Humidifier</td>\n",
       "      <td>48034</td>\n",
       "      <td>[In my opinion, if you want longevity with the...</td>\n",
       "      <td>works for both of my martin 12 string guitars ...</td>\n",
       "      <td>_START_ herco he360 guitar humidifier _END_</td>\n",
       "    </tr>\n",
       "  </tbody>\n",
       "</table>\n",
       "</div>"
      ],
      "text/plain": [
       "   index                                             review  \\\n",
       "0  20629                                  my go to strings    \n",
       "1  70961            works great for what it is designed for   \n",
       "2  30587                           positions mike perfectly   \n",
       "3  91201                   a very beefy high quality cable.   \n",
       "4  48034  works for both of my martin 12 string guitars ...   \n",
       "\n",
       "                                           summary_x  \\\n",
       "0             sostok _START_ five stars _END_ eostok   \n",
       "1          sostok _START_ works perfect _END_ eostok   \n",
       "2        sostok _START_ good and sturdy _END_ eostok   \n",
       "3             sostok _START_ five stars _END_ eostok   \n",
       "4  sostok _START_ herco he360 guitar humidifier _...   \n",
       "\n",
       "                   predicted_summary  overall  \\\n",
       "0                         five stars      5.0   \n",
       "1                        works great      4.0   \n",
       "2                         five stars      5.0   \n",
       "3                         five stars      5.0   \n",
       "4  i like it but they don have to be      5.0   \n",
       "\n",
       "                                          reviewText  \\\n",
       "0                                  My go to strings!   \n",
       "1            Works great for what it is designed for   \n",
       "2                           positions mike perfectly   \n",
       "3                   A very beefy high quality cable.   \n",
       "4  Works for both of my Martin 12 string guitars....   \n",
       "\n",
       "                       summary_y  reviewIndex  \\\n",
       "0                     Five Stars        20629   \n",
       "1                  Works perfect        70961   \n",
       "2                good and sturdy        30587   \n",
       "3                     Five Stars        91201   \n",
       "4  Herco HE360 Guitar Humidifier        48034   \n",
       "\n",
       "                                  extractive_summary  \\\n",
       "0                                [My go to strings!]   \n",
       "1          [Works great for what it is designed for]   \n",
       "2                         [positions mike perfectly]   \n",
       "3                 [A very beefy high quality cable.]   \n",
       "4  [In my opinion, if you want longevity with the...   \n",
       "\n",
       "                                        clean_review  \\\n",
       "0                                  my go to strings    \n",
       "1            works great for what it is designed for   \n",
       "2                           positions mike perfectly   \n",
       "3                   a very beefy high quality cable.   \n",
       "4  works for both of my martin 12 string guitars ...   \n",
       "\n",
       "                                 clean_summary  \n",
       "0                     _START_ five stars _END_  \n",
       "1                  _START_ works perfect _END_  \n",
       "2                _START_ good and sturdy _END_  \n",
       "3                     _START_ five stars _END_  \n",
       "4  _START_ herco he360 guitar humidifier _END_  "
      ]
     },
     "execution_count": 116,
     "metadata": {},
     "output_type": "execute_result"
    }
   ],
   "source": [
    "final_df.head()"
   ]
  },
  {
   "cell_type": "code",
   "execution_count": 117,
   "metadata": {
    "slideshow": {
     "slide_type": "skip"
    }
   },
   "outputs": [],
   "source": [
    "final_df = final_df[[\"reviewIndex\", \"overall\", \"reviewText\", \"summary_y\", \\\n",
    "                     \"extractive_summary\", \"predicted_summary\"]]"
   ]
  },
  {
   "cell_type": "code",
   "execution_count": 118,
   "metadata": {
    "slideshow": {
     "slide_type": "subslide"
    }
   },
   "outputs": [
    {
     "data": {
      "text/html": [
       "<div>\n",
       "<style scoped>\n",
       "    .dataframe tbody tr th:only-of-type {\n",
       "        vertical-align: middle;\n",
       "    }\n",
       "\n",
       "    .dataframe tbody tr th {\n",
       "        vertical-align: top;\n",
       "    }\n",
       "\n",
       "    .dataframe thead th {\n",
       "        text-align: right;\n",
       "    }\n",
       "</style>\n",
       "<table border=\"1\" class=\"dataframe\">\n",
       "  <thead>\n",
       "    <tr style=\"text-align: right;\">\n",
       "      <th></th>\n",
       "      <th>reviewIndex</th>\n",
       "      <th>overall</th>\n",
       "      <th>reviewText</th>\n",
       "      <th>summary_y</th>\n",
       "      <th>extractive_summary</th>\n",
       "      <th>predicted_summary</th>\n",
       "    </tr>\n",
       "  </thead>\n",
       "  <tbody>\n",
       "    <tr>\n",
       "      <th>0</th>\n",
       "      <td>20629</td>\n",
       "      <td>5.0</td>\n",
       "      <td>My go to strings!</td>\n",
       "      <td>Five Stars</td>\n",
       "      <td>[My go to strings!]</td>\n",
       "      <td>five stars</td>\n",
       "    </tr>\n",
       "    <tr>\n",
       "      <th>1</th>\n",
       "      <td>70961</td>\n",
       "      <td>4.0</td>\n",
       "      <td>Works great for what it is designed for</td>\n",
       "      <td>Works perfect</td>\n",
       "      <td>[Works great for what it is designed for]</td>\n",
       "      <td>works great</td>\n",
       "    </tr>\n",
       "    <tr>\n",
       "      <th>2</th>\n",
       "      <td>30587</td>\n",
       "      <td>5.0</td>\n",
       "      <td>positions mike perfectly</td>\n",
       "      <td>good and sturdy</td>\n",
       "      <td>[positions mike perfectly]</td>\n",
       "      <td>five stars</td>\n",
       "    </tr>\n",
       "    <tr>\n",
       "      <th>3</th>\n",
       "      <td>91201</td>\n",
       "      <td>5.0</td>\n",
       "      <td>A very beefy high quality cable.</td>\n",
       "      <td>Five Stars</td>\n",
       "      <td>[A very beefy high quality cable.]</td>\n",
       "      <td>five stars</td>\n",
       "    </tr>\n",
       "    <tr>\n",
       "      <th>4</th>\n",
       "      <td>48034</td>\n",
       "      <td>5.0</td>\n",
       "      <td>Works for both of my Martin 12 string guitars....</td>\n",
       "      <td>Herco HE360 Guitar Humidifier</td>\n",
       "      <td>[In my opinion, if you want longevity with the...</td>\n",
       "      <td>i like it but they don have to be</td>\n",
       "    </tr>\n",
       "  </tbody>\n",
       "</table>\n",
       "</div>"
      ],
      "text/plain": [
       "   reviewIndex  overall                                         reviewText  \\\n",
       "0        20629      5.0                                  My go to strings!   \n",
       "1        70961      4.0            Works great for what it is designed for   \n",
       "2        30587      5.0                           positions mike perfectly   \n",
       "3        91201      5.0                   A very beefy high quality cable.   \n",
       "4        48034      5.0  Works for both of my Martin 12 string guitars....   \n",
       "\n",
       "                       summary_y  \\\n",
       "0                     Five Stars   \n",
       "1                  Works perfect   \n",
       "2                good and sturdy   \n",
       "3                     Five Stars   \n",
       "4  Herco HE360 Guitar Humidifier   \n",
       "\n",
       "                                  extractive_summary  \\\n",
       "0                                [My go to strings!]   \n",
       "1          [Works great for what it is designed for]   \n",
       "2                         [positions mike perfectly]   \n",
       "3                 [A very beefy high quality cable.]   \n",
       "4  [In my opinion, if you want longevity with the...   \n",
       "\n",
       "                   predicted_summary  \n",
       "0                         five stars  \n",
       "1                        works great  \n",
       "2                         five stars  \n",
       "3                         five stars  \n",
       "4  i like it but they don have to be  "
      ]
     },
     "execution_count": 118,
     "metadata": {},
     "output_type": "execute_result"
    }
   ],
   "source": [
    "final_df.head()"
   ]
  },
  {
   "cell_type": "code",
   "execution_count": 119,
   "metadata": {
    "slideshow": {
     "slide_type": "skip"
    }
   },
   "outputs": [],
   "source": [
    "final_df.to_csv('results2.csv')"
   ]
  },
  {
   "cell_type": "markdown",
   "metadata": {
    "slideshow": {
     "slide_type": "slide"
    }
   },
   "source": [
    "## Evaluation of the Summaries"
   ]
  },
  {
   "cell_type": "code",
   "execution_count": 78,
   "metadata": {
    "scrolled": true,
    "slideshow": {
     "slide_type": "skip"
    }
   },
   "outputs": [],
   "source": [
    "data = pd.read_csv('results2.csv')\n",
    "data = data.drop(columns = ['Unnamed: 0'])\n",
    "data.dropna(inplace = True)"
   ]
  },
  {
   "cell_type": "markdown",
   "metadata": {
    "slideshow": {
     "slide_type": "skip"
    }
   },
   "source": [
    "#### Clean the data (lower case, strip)"
   ]
  },
  {
   "cell_type": "code",
   "execution_count": 83,
   "metadata": {
    "slideshow": {
     "slide_type": "skip"
    }
   },
   "outputs": [
    {
     "data": {
      "text/html": [
       "<div>\n",
       "<style scoped>\n",
       "    .dataframe tbody tr th:only-of-type {\n",
       "        vertical-align: middle;\n",
       "    }\n",
       "\n",
       "    .dataframe tbody tr th {\n",
       "        vertical-align: top;\n",
       "    }\n",
       "\n",
       "    .dataframe thead th {\n",
       "        text-align: right;\n",
       "    }\n",
       "</style>\n",
       "<table border=\"1\" class=\"dataframe\">\n",
       "  <thead>\n",
       "    <tr style=\"text-align: right;\">\n",
       "      <th></th>\n",
       "      <th>reviewIndex</th>\n",
       "      <th>overall</th>\n",
       "      <th>reviewText</th>\n",
       "      <th>summary_y</th>\n",
       "      <th>extractive_summary</th>\n",
       "      <th>predicted_summary</th>\n",
       "      <th>summary_y_lower</th>\n",
       "    </tr>\n",
       "  </thead>\n",
       "  <tbody>\n",
       "    <tr>\n",
       "      <th>0</th>\n",
       "      <td>20629</td>\n",
       "      <td>5.0</td>\n",
       "      <td>My go to strings!</td>\n",
       "      <td>Five Stars</td>\n",
       "      <td>my go to strings!</td>\n",
       "      <td>five stars</td>\n",
       "      <td>[five stars]</td>\n",
       "    </tr>\n",
       "    <tr>\n",
       "      <th>1</th>\n",
       "      <td>70961</td>\n",
       "      <td>4.0</td>\n",
       "      <td>Works great for what it is designed for</td>\n",
       "      <td>Works perfect</td>\n",
       "      <td>works great for what it is designed for</td>\n",
       "      <td>works great</td>\n",
       "      <td>[works perfect]</td>\n",
       "    </tr>\n",
       "    <tr>\n",
       "      <th>2</th>\n",
       "      <td>30587</td>\n",
       "      <td>5.0</td>\n",
       "      <td>positions mike perfectly</td>\n",
       "      <td>good and sturdy</td>\n",
       "      <td>positions mike perfectly</td>\n",
       "      <td>five stars</td>\n",
       "      <td>[good and sturdy]</td>\n",
       "    </tr>\n",
       "    <tr>\n",
       "      <th>3</th>\n",
       "      <td>91201</td>\n",
       "      <td>5.0</td>\n",
       "      <td>A very beefy high quality cable.</td>\n",
       "      <td>Five Stars</td>\n",
       "      <td>a very beefy high quality cable.</td>\n",
       "      <td>five stars</td>\n",
       "      <td>[five stars]</td>\n",
       "    </tr>\n",
       "    <tr>\n",
       "      <th>4</th>\n",
       "      <td>48034</td>\n",
       "      <td>5.0</td>\n",
       "      <td>Works for both of my Martin 12 string guitars....</td>\n",
       "      <td>Herco HE360 Guitar Humidifier</td>\n",
       "      <td>in my opinion, if you want longevity with thes...</td>\n",
       "      <td>i like it but they don have to be</td>\n",
       "      <td>[herco he360 guitar humidifier]</td>\n",
       "    </tr>\n",
       "  </tbody>\n",
       "</table>\n",
       "</div>"
      ],
      "text/plain": [
       "   reviewIndex  overall                                         reviewText  \\\n",
       "0        20629      5.0                                  My go to strings!   \n",
       "1        70961      4.0            Works great for what it is designed for   \n",
       "2        30587      5.0                           positions mike perfectly   \n",
       "3        91201      5.0                   A very beefy high quality cable.   \n",
       "4        48034      5.0  Works for both of my Martin 12 string guitars....   \n",
       "\n",
       "                       summary_y  \\\n",
       "0                     Five Stars   \n",
       "1                  Works perfect   \n",
       "2                good and sturdy   \n",
       "3                     Five Stars   \n",
       "4  Herco HE360 Guitar Humidifier   \n",
       "\n",
       "                                  extractive_summary  \\\n",
       "0                                  my go to strings!   \n",
       "1            works great for what it is designed for   \n",
       "2                           positions mike perfectly   \n",
       "3                   a very beefy high quality cable.   \n",
       "4  in my opinion, if you want longevity with thes...   \n",
       "\n",
       "                   predicted_summary                  summary_y_lower  \n",
       "0                         five stars                     [five stars]  \n",
       "1                        works great                  [works perfect]  \n",
       "2                         five stars                [good and sturdy]  \n",
       "3                         five stars                     [five stars]  \n",
       "4  i like it but they don have to be  [herco he360 guitar humidifier]  "
      ]
     },
     "execution_count": 83,
     "metadata": {},
     "output_type": "execute_result"
    }
   ],
   "source": [
    "data['predicted_summary'] = data['predicted_summary'].map(lambda x: x.strip(\"[' ']\"))\n",
    "data['extractive_summary'] = data['extractive_summary'].str.lower()\n",
    "data['extractive_summary'] = data['extractive_summary'].map(lambda x: x.strip(\"[' ']\"))\n",
    "data['summary_y_lower'] = data['summary_y'].str.lower()\n",
    "data['summary_y_lower'] = data['summary_y_lower'].apply(lambda x: x.split(','))\n",
    "data.head()"
   ]
  },
  {
   "cell_type": "markdown",
   "metadata": {
    "slideshow": {
     "slide_type": "subslide"
    }
   },
   "source": [
    "#### Bleu Score - Extractive Summary"
   ]
  },
  {
   "cell_type": "code",
   "execution_count": 84,
   "metadata": {
    "slideshow": {
     "slide_type": "subslide"
    }
   },
   "outputs": [],
   "source": [
    "data['BLEU1'] = data.apply(lambda row: sentence_bleu(row['summary_y_lower'],row['extractive_summary']), axis=1)"
   ]
  },
  {
   "cell_type": "code",
   "execution_count": 88,
   "metadata": {
    "scrolled": true,
    "slideshow": {
     "slide_type": "subslide"
    }
   },
   "outputs": [
    {
     "name": "stdout",
     "output_type": "stream",
     "text": [
      "Average Bleu score for extractive summary is: 0.11\n"
     ]
    }
   ],
   "source": [
    "print('Average Bleu score for extractive summary is:', round(data['BLEU1'].mean(axis=0), 2))"
   ]
  },
  {
   "cell_type": "markdown",
   "metadata": {
    "slideshow": {
     "slide_type": "subslide"
    }
   },
   "source": [
    "#### Bleu Score - Abstractive Summary"
   ]
  },
  {
   "cell_type": "code",
   "execution_count": 86,
   "metadata": {
    "slideshow": {
     "slide_type": "subslide"
    }
   },
   "outputs": [],
   "source": [
    "data['BLEU2'] = data.apply(lambda row: sentence_bleu(row['summary_y_lower'],row['predicted_summary']), axis=1)"
   ]
  },
  {
   "cell_type": "code",
   "execution_count": 89,
   "metadata": {
    "slideshow": {
     "slide_type": "subslide"
    }
   },
   "outputs": [
    {
     "name": "stdout",
     "output_type": "stream",
     "text": [
      "Average Bleu score for abstractive summary is: 0.23\n"
     ]
    }
   ],
   "source": [
    "print('Average Bleu score for abstractive summary is:', round(data['BLEU2'].mean(axis=0), 2))"
   ]
  },
  {
   "cell_type": "markdown",
   "metadata": {
    "slideshow": {
     "slide_type": "subslide"
    }
   },
   "source": [
    "After comparing the bleu scores of extractive summary and abstractive summary, we decided to move forward with abstractive summary for further classification."
   ]
  },
  {
   "cell_type": "markdown",
   "metadata": {
    "slideshow": {
     "slide_type": "slide"
    }
   },
   "source": [
    "## Summary Classification"
   ]
  },
  {
   "cell_type": "markdown",
   "metadata": {
    "slideshow": {
     "slide_type": "subslide"
    }
   },
   "source": [
    "#### Process Data"
   ]
  },
  {
   "cell_type": "code",
   "execution_count": 65,
   "metadata": {
    "scrolled": true,
    "slideshow": {
     "slide_type": "skip"
    }
   },
   "outputs": [],
   "source": [
    "data = pd.read_csv('results2.csv')\n",
    "data = data.drop(columns = ['Unnamed: 0'])\n",
    "data.dropna(inplace = True)"
   ]
  },
  {
   "cell_type": "markdown",
   "metadata": {
    "slideshow": {
     "slide_type": "skip"
    }
   },
   "source": [
    "\n",
    "Label data for Fasttext classification\n",
    " - _label_2: negative\n",
    " - _label_0: neutral\n",
    " - _label_1: positive"
   ]
  },
  {
   "cell_type": "code",
   "execution_count": 66,
   "metadata": {
    "slideshow": {
     "slide_type": "subslide"
    }
   },
   "outputs": [],
   "source": [
    "data['sentiment'] = data.overall.replace({\n",
    "    1:'__label__2',\n",
    "    2:'__label__2',\n",
    "    3:'__label__0',\n",
    "    4:'__label__1',\n",
    "    5:'__label__1'\n",
    "})"
   ]
  },
  {
   "cell_type": "markdown",
   "metadata": {
    "slideshow": {
     "slide_type": "subslide"
    }
   },
   "source": [
    "Split data for classification"
   ]
  },
  {
   "cell_type": "code",
   "execution_count": 68,
   "metadata": {
    "slideshow": {
     "slide_type": "skip"
    }
   },
   "outputs": [],
   "source": [
    "df = data[['sentiment', 'predicted_summary']]\n",
    "data_X = data['predicted_summary']\n",
    "y_data = data['sentiment']"
   ]
  },
  {
   "cell_type": "code",
   "execution_count": 69,
   "metadata": {
    "scrolled": true,
    "slideshow": {
     "slide_type": "subslide"
    }
   },
   "outputs": [],
   "source": [
    "X_train, X_test, y_train, y_test = train_test_split(data_X, y_data, test_size=0.25, random_state= 1)"
   ]
  },
  {
   "cell_type": "code",
   "execution_count": 70,
   "metadata": {
    "slideshow": {
     "slide_type": "skip"
    }
   },
   "outputs": [],
   "source": [
    "d = {'sentiment': y_train, 'predicted_summary': X_train}\n",
    "temp= pd.DataFrame(data=d)\n",
    "temp.to_csv('review_train.txt', sep=\" \", header=False, index=False)\n",
    "d = {'sentiment': y_test, 'predicted_summary': X_test}\n",
    "tmp= pd.DataFrame(data=d)\n",
    "tmp.to_csv('review_test.txt', sep=\" \", header=False, index=False)"
   ]
  },
  {
   "cell_type": "markdown",
   "metadata": {
    "slideshow": {
     "slide_type": "subslide"
    }
   },
   "source": [
    "#### Fasttext"
   ]
  },
  {
   "cell_type": "code",
   "execution_count": 50,
   "metadata": {
    "slideshow": {
     "slide_type": "subslide"
    }
   },
   "outputs": [],
   "source": [
    "model = fasttext.train_supervised('review_train.txt', epoch=50)"
   ]
  },
  {
   "cell_type": "code",
   "execution_count": 51,
   "metadata": {
    "scrolled": false,
    "slideshow": {
     "slide_type": "skip"
    }
   },
   "outputs": [],
   "source": [
    "train = pd.read_csv(\"review_train.txt\", sep = \" \", header=None)\n",
    "test = pd.read_csv(\"review_test.txt\", sep = \" \", header=None)\n",
    "train.columns = ['sentiment','predicted_summary']\n",
    "test.columns = ['sentiment','predicted_summary']"
   ]
  },
  {
   "cell_type": "code",
   "execution_count": 52,
   "metadata": {
    "scrolled": false,
    "slideshow": {
     "slide_type": "subslide"
    }
   },
   "outputs": [
    {
     "name": "stdout",
     "output_type": "stream",
     "text": [
      "              precision    recall  f1-score   support\n",
      "\n",
      "  __label__0       0.04      0.01      0.02       429\n",
      "  __label__1       0.88      0.98      0.93      5452\n",
      "  __label__2       0.92      0.03      0.06       329\n",
      "\n",
      "    accuracy                           0.87      6210\n",
      "   macro avg       0.61      0.34      0.34      6210\n",
      "weighted avg       0.82      0.87      0.82      6210\n",
      "\n"
     ]
    }
   ],
   "source": [
    "yhat = [model.predict(train.loc[k][1])[0][0] for k in range(len(train))]\n",
    "y0 = list(train.iloc[:,0])\n",
    "\n",
    "print(metrics.classification_report(y0, yhat))"
   ]
  },
  {
   "cell_type": "markdown",
   "metadata": {
    "slideshow": {
     "slide_type": "subslide"
    }
   },
   "source": [
    "#### Multinomial Naive Bayes"
   ]
  },
  {
   "cell_type": "code",
   "execution_count": 74,
   "metadata": {
    "slideshow": {
     "slide_type": "subslide"
    }
   },
   "outputs": [
    {
     "name": "stdout",
     "output_type": "stream",
     "text": [
      "              precision    recall  f1-score   support\n",
      "\n",
      "  __label__0       0.06      0.01      0.01       143\n",
      "  __label__1       0.88      0.98      0.93      1789\n",
      "  __label__2       0.66      0.28      0.39       139\n",
      "\n",
      "    accuracy                           0.87      2071\n",
      "   macro avg       0.53      0.42      0.45      2071\n",
      "weighted avg       0.81      0.87      0.83      2071\n",
      "\n"
     ]
    }
   ],
   "source": [
    "text_mvb = make_pipeline(TfidfVectorizer(), naive_bayes.MultinomialNB())\n",
    "text_mvb.fit(X_train, y_train)\n",
    "predictions = text_mvb.predict(X_test)\n",
    "print(metrics.classification_report(y_test, predictions))"
   ]
  },
  {
   "cell_type": "markdown",
   "metadata": {
    "slideshow": {
     "slide_type": "subslide"
    }
   },
   "source": [
    "#### XGBoost"
   ]
  },
  {
   "cell_type": "code",
   "execution_count": 75,
   "metadata": {
    "slideshow": {
     "slide_type": "subslide"
    }
   },
   "outputs": [
    {
     "name": "stdout",
     "output_type": "stream",
     "text": [
      "              precision    recall  f1-score   support\n",
      "\n",
      "  __label__0       0.24      0.03      0.06       143\n",
      "  __label__1       0.88      0.98      0.93      1789\n",
      "  __label__2       0.63      0.27      0.37       139\n",
      "\n",
      "    accuracy                           0.87      2071\n",
      "   macro avg       0.58      0.43      0.46      2071\n",
      "weighted avg       0.82      0.87      0.83      2071\n",
      "\n"
     ]
    }
   ],
   "source": [
    "text_xgb = make_pipeline(TfidfVectorizer(), xgb.XGBClassifier(\n",
    " learning_rate=0.1,\n",
    " n_estimators=1000,\n",
    " max_depth=5,\n",
    " min_child_weight=1,\n",
    " gamma=0,\n",
    " subsample=0.8,\n",
    " colsample_bytree=0.8,\n",
    " objective='multi:softmax',\n",
    " nthread=4,\n",
    " seed=0))\n",
    "text_xgb.fit(X_train, y_train)\n",
    "predictions = text_xgb.predict(X_test)\n",
    "print(metrics.classification_report(y_test, predictions))"
   ]
  },
  {
   "cell_type": "markdown",
   "metadata": {
    "slideshow": {
     "slide_type": "subslide"
    }
   },
   "source": [
    "#### Support Vector Machine"
   ]
  },
  {
   "cell_type": "code",
   "execution_count": 76,
   "metadata": {
    "slideshow": {
     "slide_type": "subslide"
    }
   },
   "outputs": [
    {
     "name": "stdout",
     "output_type": "stream",
     "text": [
      "              precision    recall  f1-score   support\n",
      "\n",
      "  __label__0       0.43      0.02      0.04       143\n",
      "  __label__1       0.88      0.99      0.93      1789\n",
      "  __label__2       0.74      0.25      0.38       139\n",
      "\n",
      "    accuracy                           0.88      2071\n",
      "   macro avg       0.68      0.42      0.45      2071\n",
      "weighted avg       0.84      0.88      0.83      2071\n",
      "\n"
     ]
    }
   ],
   "source": [
    "text_clf = make_pipeline(TfidfVectorizer(), svm.SVC(kernel='rbf', tol=1e-3, random_state = 0))\n",
    "\n",
    "text_clf.fit(X_train, y_train)\n",
    "\n",
    "predictions = text_clf.predict(X_test)\n",
    "print(metrics.classification_report(y_test, predictions))"
   ]
  },
  {
   "attachments": {
    "Picture1.png": {
     "image/png": "[encoded data removed]"
    }
   },
   "cell_type": "markdown",
   "metadata": {
    "slideshow": {
     "slide_type": "slide"
    }
   },
   "source": [
    "## Evaluation of the Classfication\n",
    "\n",
    "![Picture1.png](attachment:Picture1.png)"
   ]
  },
  {
   "cell_type": "markdown",
   "metadata": {
    "slideshow": {
     "slide_type": "slide"
    }
   },
   "source": [
    "## Conlusion\n",
    "\n",
    "The project can be applied into the Review Management System for the organization to understand customer feedbacks fast and accurate, it includes two functions: \n",
    "1. Summarize Review\n",
    "2. Classify the review summarization into positive, neutral, negative categories\n",
    "\n",
    "Abstractive summarization perform better than extractive summarizatioin. Based on the abstractive summarization result, we built 4 classification models. From these 4 classification model results above, we could see all of them are accurate and stable. Whereas SVM gives us the best review classification result. By using SVM model in this feedback management system, organizations can get a complete idea on feedback provided by customers, which makes more loyal customers to the company, expand business, fame, brand value, and profits."
   ]
  }
 ],
 "metadata": {
  "celltoolbar": "Slideshow",
  "kernelspec": {
   "display_name": "Python 3",
   "language": "python",
   "name": "python3"
  },
  "language_info": {
   "codemirror_mode": {
    "name": "ipython",
    "version": 3
   },
   "file_extension": ".py",
   "mimetype": "text/x-python",
   "name": "python",
   "nbconvert_exporter": "python",
   "pygments_lexer": "ipython3",
   "version": "3.7.4"
  }
 },
 "nbformat": 4,
 "nbformat_minor": 4
}
